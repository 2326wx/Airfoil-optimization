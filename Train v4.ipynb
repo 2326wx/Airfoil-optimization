{
 "cells": [
  {
   "cell_type": "code",
   "execution_count": 1,
   "metadata": {},
   "outputs": [],
   "source": [
    "from pathlib import Path\n",
    "import numpy as np\n",
    "from numpy.random import shuffle, seed\n",
    "import matplotlib.pyplot as plt\n",
    "from matplotlib.backends.backend_agg import FigureCanvasAgg\n",
    "import os\n",
    "import gc\n",
    "\n",
    "from xfoil import XFoil\n",
    "from xfoil.model import Airfoil\n",
    "\n",
    "from lib.utils import load_pkl, save_pkl\n",
    "from config import *\n",
    "from lib.dl_modules import BatchGenerator\n",
    "from lib.preprocess_modules import interpolate_airfoil, get_alfa_step\n",
    "from nets.nn import *"
   ]
  },
  {
   "cell_type": "code",
   "execution_count": 2,
   "metadata": {},
   "outputs": [
    {
     "data": {
      "text/plain": [
       "[(256, 1024), (512, 512)]"
      ]
     },
     "execution_count": 2,
     "metadata": {},
     "output_type": "execute_result"
    }
   ],
   "source": [
    "# available resolutions\n",
    "bitmap_outputs"
   ]
  },
  {
   "cell_type": "code",
   "execution_count": 3,
   "metadata": {},
   "outputs": [],
   "source": [
    "bitmap_output_number = 1\n",
    "\n",
    "# create dataset for selected bitmap output\n",
    "pkl_folder = str(bitmap_outputs[bitmap_output_number][0])+'x'+str(bitmap_outputs[bitmap_output_number][1])\n",
    "\n",
    "# dataset config\n",
    "incl_data = { 'Cl'  : True,\n",
    "              'Cd'  : True,\n",
    "              'Cm'  : True,\n",
    "              'Cp'  : True,\n",
    "              'd'   : True,\n",
    "              'S'   : True,\n",
    "              'Re'  : False,\n",
    "              'alfa': False }\n",
    "\n",
    "# count samples amount\n",
    "samples_amount = len(os.listdir(Path(foils_bmp_path, pkl_folder)))\n",
    "# samples_amount = 138\n",
    "\n",
    "# count data layers\n",
    "n_data_layers = 0\n",
    "for key in incl_data.keys():\n",
    "    if incl_data[key]: n_data_layers+=1"
   ]
  },
  {
   "cell_type": "code",
   "execution_count": 4,
   "metadata": {},
   "outputs": [
    {
     "name": "stdout",
     "output_type": "stream",
     "text": [
      "Total samples: 625, layers in sample: 6.\n",
      "Taking data from 512x512 folder...\n",
      "Created empty arrays: X((625, 6, 16, 32)) and y((625, 512, 512, 1)), import data...\n",
      "ea81006.pkl excluded.\n",
      "ebambino7.pkl excluded.\n",
      "eiffel428.pkl excluded.\n",
      "eiffel430.pkl excluded.\n",
      "goe388.pkl excluded.\n",
      "goe451.pkl excluded.\n",
      "goe802a.pkl excluded.\n",
      "goe802b.pkl excluded.\n",
      "naca63206.pkl excluded.\n",
      "naca63a210.pkl excluded.\n",
      "rc1064c.pkl excluded.\n",
      "saratov.pkl excluded.\n",
      "ua79sff.pkl excluded.\n",
      "Saving...\n",
      "Done.\n",
      "Totally foils in arrays: 612\n"
     ]
    }
   ],
   "source": [
    "print('Total samples: %i, layers in sample: %i.' % (samples_amount, n_data_layers))\n",
    "print('Taking data from %s folder...' % pkl_folder)\n",
    "\n",
    "X = np.zeros((samples_amount, n_data_layers, n_points_Re, n_points_alfa), dtype='float64')\n",
    "y = np.zeros((samples_amount, bitmap_outputs[bitmap_output_number][0], bitmap_outputs[bitmap_output_number][1], 1), dtype='int8')\n",
    "\n",
    "print('Created empty arrays: X(%s) and y(%s), import data...' % (X.shape, y.shape))\n",
    "\n",
    "sample = 0\n",
    "        \n",
    "for fname in os.listdir(Path(foils_bmp_path, pkl_folder)): \n",
    "    \n",
    "    if sample>samples_amount-1:break\n",
    "        \n",
    "    if fname not in foil_exception_list:\n",
    "        \n",
    "        foil = load_pkl(Path(foils_pkl_path, fname))\n",
    "        \n",
    "        ind_X=0\n",
    "        \n",
    "        for i, key in enumerate(incl_data):\n",
    "            if incl_data[key]:\n",
    "                X[sample, ind_X, :, :] = foil['X'][i, :, :]\n",
    "                ind_X+=1   \n",
    "        y[sample, :, :, :] = np.expand_dims(load_pkl(Path(foils_bmp_path, pkl_folder, fname)), 2)\n",
    "        sample+=1\n",
    "        \n",
    "    else:\n",
    "        print('%s excluded.' % fname)\n",
    "        \n",
    "# reshaping X \n",
    "X = X.reshape(samples_amount, n_data_layers*n_points_Re*n_points_alfa)\n",
    "\n",
    "assert np.sum(np.isnan(X))==0, \"NaNs in X\"\n",
    "assert np.sum(np.isnan(y))==0, \"NaNs in y\"\n",
    "\n",
    "print('Saving...')\n",
    "\n",
    "save_pkl(X, Path(dataset_folder, \"X.pkl\"))\n",
    "save_pkl(y, Path(dataset_folder, \"y.pkl\"))\n",
    "\n",
    "del X, y\n",
    "gc.collect()\n",
    "\n",
    "print('Done.')\n",
    "print(\"Totally foils in arrays: %i\" % (sample))"
   ]
  },
  {
   "cell_type": "code",
   "execution_count": 4,
   "metadata": {},
   "outputs": [
    {
     "data": {
      "text/plain": [
       "((625, 3072), (625, 512, 512, 1))"
      ]
     },
     "execution_count": 4,
     "metadata": {},
     "output_type": "execute_result"
    }
   ],
   "source": [
    "X = load_pkl(Path(dataset_folder, 'X.pkl'))\n",
    "y = load_pkl(Path(dataset_folder, 'y.pkl'))\n",
    "X.shape, y.shape"
   ]
  },
  {
   "cell_type": "code",
   "execution_count": 5,
   "metadata": {},
   "outputs": [],
   "source": [
    "all_indices = np.arange(len(X))\n",
    "seed(42)\n",
    "shuffle(all_indices)\n",
    "\n",
    "n_indices = len(X)\n",
    "train_part = int(n_indices*train_percentage)\n",
    "val_part = int(n_indices*val_percentage)\n",
    "train_part, val_part\n",
    "train_indices = all_indices[:train_part]\n",
    "val_indices = all_indices[train_part:val_part]\n",
    "test_indices = all_indices[val_part:]"
   ]
  },
  {
   "cell_type": "code",
   "execution_count": null,
   "metadata": {
    "scrolled": true
   },
   "outputs": [
    {
     "name": "stdout",
     "output_type": "stream",
     "text": [
      "Light parametrization net output shape: (None, 512, 512, 1)\n",
      "Epoch 1/1000\n",
      "93/93 [==============================] - 11s 122ms/step - loss: 0.2127 - mse: 0.2127 - val_loss: 0.0947 - val_mse: 0.0947e: - ETA: 5s - - ETA: 1s - loss: 0.221\n",
      "Epoch 2/1000\n",
      "93/93 [==============================] - 10s 111ms/step - loss: 0.1044 - mse: 0.1044 - val_loss: 0.0167 - val_mse: 0.0167\n",
      "Epoch 3/1000\n",
      "93/93 [==============================] - 10s 112ms/step - loss: 0.0358 - mse: 0.0358 - val_loss: 0.0159 - val_mse: 0.015996 - ms - ETA: 5s - loss: 0.0471 - mse: 0.047 - ETA: 5s - loss: 0. - ETA: 3s - ETA: 0s - loss: 0.0365 - mse: 0\n",
      "Epoch 4/1000\n",
      "93/93 [==============================] - 10s 112ms/step - loss: 0.0167 - mse: 0.0167 - val_loss: 0.0210 - val_mse: 0.0210\n",
      "Epoch 5/1000\n",
      "93/93 [==============================] - 10s 112ms/step - loss: 0.0137 - mse: 0.0137 - val_loss: 0.0166 - val_mse: 0.0166 - ETA: 1s - loss: 0.0137 - mse: 0.0 - ETA: 1s - loss: 0.0136 \n",
      "Epoch 6/1000\n",
      "93/93 [==============================] - 11s 116ms/step - loss: 0.0132 - mse: 0.0132 - val_loss: 0.0193 - val_mse: 0.0193\n",
      "Epoch 7/1000\n",
      "93/93 [==============================] - 10s 110ms/step - loss: 0.0143 - mse: 0.0143 - val_loss: 0.3394 - val_mse: 0.3394\n",
      "Epoch 8/1000\n",
      "93/93 [==============================] - 10s 109ms/step - loss: 0.0144 - mse: 0.0144 - val_loss: 0.0151 - val_mse: 0.0151 ETA: 2s - \n",
      "Epoch 9/1000\n",
      "93/93 [==============================] - 10s 110ms/step - loss: 0.0130 - mse: 0.0130 - val_loss: 0.0135 - val_mse: 0.0135- loss: 0.0130 - - ETA: 2s - lo\n",
      "Epoch 10/1000\n",
      "93/93 [==============================] - 10s 109ms/step - loss: 0.0128 - mse: 0.0128 - val_loss: 0.0135 - val_mse: 0.0135: 0.01 - ETA: 2s - loss: 0.0129 - mse:  - ETA: 1s - loss: 0.0129 - mse:  - ETA: 0s - loss: 0.0129 - m\n",
      "Epoch 11/1000\n",
      "93/93 [==============================] - 10s 108ms/step - loss: 0.0128 - mse: 0.0128 - val_loss: 0.0139 - val_mse: 0.0139\n",
      "Epoch 12/1000\n",
      "93/93 [==============================] - 10s 109ms/step - loss: 0.0125 - mse: 0.0125 - val_loss: 0.0141 - val_mse: 0.0141loss: 0.0125 - mse: 0.\n",
      "Epoch 13/1000\n",
      "93/93 [==============================] - 10s 111ms/step - loss: 0.0123 - mse: 0.0123 - val_loss: 0.0122 - val_mse: 0.0122- mse: 0.012\n",
      "Epoch 14/1000\n",
      "93/93 [==============================] - 10s 109ms/step - loss: 0.0120 - mse: 0.0120 - val_loss: 0.0123 - val_mse: 0.0123: 0.0120 -  - ETA: 2s \n",
      "Epoch 15/1000\n",
      "93/93 [==============================] - 10s 109ms/step - loss: 0.0121 - mse: 0.0121 - val_loss: 0.0121 - val_mse: 0.0121\n",
      "Epoch 16/1000\n",
      "93/93 [==============================] - 10s 110ms/step - loss: 0.0117 - mse: 0.0117 - val_loss: 0.0120 - val_mse: 0.0120ss: 0.0116 -  - ETA: 2s - loss\n",
      "Epoch 17/1000\n",
      "93/93 [==============================] - 11s 115ms/step - loss: 0.0115 - mse: 0.0115 - val_loss: 0.0121 - val_mse: 0.0121\n",
      "Epoch 18/1000\n",
      "93/93 [==============================] - 11s 114ms/step - loss: 0.0112 - mse: 0.0112 - val_loss: 0.0103 - val_mse: 0.0103\n",
      "Epoch 19/1000\n",
      "93/93 [==============================] - 10s 112ms/step - loss: 0.0095 - mse: 0.0095 - val_loss: 0.0113 - val_mse: 0.0113 - loss: 0.0095 - m - ETA: 2s - loss\n",
      "Epoch 20/1000\n",
      "93/93 [==============================] - 11s 115ms/step - loss: 0.0094 - mse: 0.0094 - val_loss: 0.0099 - val_mse: 0.0099\n",
      "Epoch 21/1000\n",
      "93/93 [==============================] - 10s 111ms/step - loss: 0.0095 - mse: 0.0095 - val_loss: 0.0107 - val_mse: 0.0107\n",
      "Epoch 22/1000\n",
      "93/93 [==============================] - 11s 114ms/step - loss: 0.0093 - mse: 0.0093 - val_loss: 0.0193 - val_mse: 0.0193 - loss: 0.0093 - mse: - ET - ETA: 4s - loss: 0.0093 - mse: 0.009  - ETA: 0s - loss: 0.0094 - mse: 0.\n",
      "Epoch 23/1000\n",
      "93/93 [==============================] - 11s 114ms/step - loss: 0.0090 - mse: 0.0090 - val_loss: 0.0143 - val_mse: 0.0143092 - mse: 0 - ETA: \n",
      "Epoch 24/1000\n",
      "93/93 [==============================] - 10s 112ms/step - loss: 0.0091 - mse: 0.0091 - val_loss: 0.0112 - val_mse: 0.0112\n",
      "Epoch 25/1000\n",
      "93/93 [==============================] - 11s 114ms/step - loss: 0.0091 - mse: 0.0091 - val_loss: 0.0153 - val_mse: 0.01530.0 - ETA: 2s - loss: 0.0090 - mse:  - ETA: 2s - loss: \n",
      "Epoch 26/1000\n",
      "93/93 [==============================] - 10s 109ms/step - loss: 0.0090 - mse: 0.0090 - val_loss: 0.0099 - val_mse: 0.0099. - ETA: 0s - loss: 0.0090 - mse: 0.009\n",
      "Epoch 27/1000\n",
      "93/93 [==============================] - 10s 111ms/step - loss: 0.0087 - mse: 0.0087 - val_loss: 0.0123 - val_mse: 0.0123loss: 0.0084 - ETA: 1s - loss: 0.0086 -  - ETA: 0s - loss: 0.0087 - mse: 0.\n",
      "Epoch 28/1000\n",
      "93/93 [==============================] - 11s 114ms/step - loss: 0.0089 - mse: 0.0089 - val_loss: 0.0140 - val_mse: 0.0140s - loss: - ETA: 6s - loss: 0.0 - ET - ETA: 1s - loss: 0.00\n",
      "Epoch 29/1000\n",
      "93/93 [==============================] - 10s 112ms/step - loss: 0.0086 - mse: 0.0086 - val_loss: 0.0093 - val_mse: 0.0093\n",
      "Epoch 30/1000\n",
      "93/93 [==============================] - 10s 111ms/step - loss: 0.0083 - mse: 0.0083 - val_loss: 0.0090 - val_mse: 0.0090086 - mse:  - ETA: 3\n",
      "Epoch 31/1000\n",
      "93/93 [==============================] - 10s 111ms/step - loss: 0.0083 - mse: 0.0083 - val_loss: 0.0098 - val_mse: 0.0098\n",
      "Epoch 32/1000\n",
      "93/93 [==============================] - 10s 111ms/step - loss: 0.0085 - mse: 0.0085 - val_loss: 0.0237 - val_mse: 0.0237\n",
      "Epoch 33/1000\n",
      "93/93 [==============================] - 10s 112ms/step - loss: 0.0083 - mse: 0.0083 - val_loss: 0.0096 - val_mse: 0.0096oss: 0.0081 - mse: 0.00 - ETA: 2s - loss: \n",
      "Epoch 34/1000\n",
      "93/93 [==============================] - 10s 111ms/step - loss: 0.0082 - mse: 0.0082 - val_loss: 0.0126 - val_mse: 0.0126\n",
      "Epoch 35/1000\n",
      "93/93 [==============================] - 10s 111ms/step - loss: 0.0084 - mse: 0.0084 - val_loss: 0.0093 - val_mse: 0.00935s - loss: 0.0079 - mse - ETA: 4s - loss: 0.008 - ETA: 2s - loss: 0.0083 - mse: 0.0 - ETA: 2s - loss: 0.0 - ETA: 0s - loss: 0.0085 - mse:\n",
      "Epoch 36/1000\n",
      "93/93 [==============================] - 11s 113ms/step - loss: 0.0086 - mse: 0.0086 - val_loss: 0.0102 - val_mse: 0.0102 ETA: 1s - loss: 0.0087 -\n",
      "Epoch 37/1000\n",
      "93/93 [==============================] - 10s 111ms/step - loss: 0.0083 - mse: 0.0083 - val_loss: 0.0103 - val_mse: 0.0103se: - ETA: 2s - lo\n",
      "Epoch 38/1000\n",
      "93/93 [==============================] - 10s 111ms/step - loss: 0.0085 - mse: 0.0085 - val_loss: 0.0096 - val_mse: 0.0096 4s - loss: 0.00 - ETA: 2s - loss: 0.0083 - mse - ETA: 2s - loss: 0. - ETA: 0s - loss: 0.0085 - mse: 0.00\n",
      "Epoch 39/1000\n",
      "93/93 [==============================] - 10s 112ms/step - loss: 0.0086 - mse: 0.0086 - val_loss: 0.0110 - val_mse: 0.0110\n",
      "Epoch 40/1000\n",
      "93/93 [==============================] - 10s 112ms/step - loss: 0.0081 - mse: 0.0081 - val_loss: 0.0286 - val_mse: 0.02860s - loss: 0.0081 - mse: 0.00\n",
      "Epoch 41/1000\n",
      "93/93 [==============================] - 10s 111ms/step - loss: 0.0080 - mse: 0.0080 - val_loss: 0.0094 - val_mse: 0.0094\n",
      "Epoch 42/1000\n",
      "93/93 [==============================] - 10s 111ms/step - loss: 0.0081 - mse: 0.0081 - val_loss: 0.0118 - val_mse: 0.0118- loss: 0.0081 - mse: \n",
      "Epoch 43/1000\n",
      "93/93 [==============================] - 10s 111ms/step - loss: 0.0083 - mse: 0.0083 - val_loss: 0.0123 - val_mse: 0.0123\n",
      "Epoch 44/1000\n",
      "93/93 [==============================] - 10s 111ms/step - loss: 0.0081 - mse: 0.0081 - val_loss: 0.0125 - val_mse: 0.0125\n",
      "Epoch 45/1000\n",
      "93/93 [==============================] - 10s 113ms/step - loss: 0.0079 - mse: 0.0079 - val_loss: 0.0201 - val_mse: 0.0201\n",
      "Epoch 46/1000\n",
      "93/93 [==============================] - 10s 112ms/step - loss: 0.0078 - mse: 0.0078 - val_loss: 0.0107 - val_mse: 0.0107 -  - ETA: 0s - loss: 0.0077 - mse - ETA: 0s - loss: 0.0078 - mse: 0.007\n",
      "Epoch 47/1000\n",
      "93/93 [==============================] - 10s 112ms/step - loss: 0.0077 - mse: 0.0077 - val_loss: 0.0140 - val_mse: 0.0140\n",
      "Epoch 48/1000\n",
      "93/93 [==============================] - 10s 112ms/step - loss: 0.0076 - mse: 0.0076 - val_loss: 0.0155 - val_mse: 0.0155\n",
      "Epoch 49/1000\n",
      "93/93 [==============================] - 10s 111ms/step - loss: 0.0079 - mse: 0.0079 - val_loss: 0.0164 - val_mse: 0.0164: 0.007 - ETA: 0s - loss: 0.0079 - mse: 0.007\n",
      "Epoch 50/1000\n",
      "93/93 [==============================] - 10s 112ms/step - loss: 0.0076 - mse: 0.0076 - val_loss: 0.0127 - val_mse: 0.0127\n",
      "Epoch 51/1000\n"
     ]
    },
    {
     "name": "stdout",
     "output_type": "stream",
     "text": [
      "93/93 [==============================] - 10s 112ms/step - loss: 0.0077 - mse: 0.0077 - val_loss: 0.0081 - val_mse: 0.0081\n",
      "Epoch 52/1000\n",
      "93/93 [==============================] - 10s 109ms/step - loss: 0.0077 - mse: 0.0077 - val_loss: 0.0092 - val_mse: 0.0092\n",
      "Epoch 53/1000\n",
      "93/93 [==============================] - 10s 111ms/step - loss: 0.0076 - mse: 0.0076 - val_loss: 0.0101 - val_mse: 0.0101s - loss: 0.0078 - mse: 0.0 - ETA: 3s - - ETA: 0s - loss: 0.0076 - mse: 0.\n",
      "Epoch 54/1000\n",
      "93/93 [==============================] - 10s 110ms/step - loss: 0.0075 - mse: 0.0075 - val_loss: 0.0091 - val_mse: 0.00910076 - mse: 0.00 - ETA: 1s - loss: 0.0076 \n",
      "Epoch 55/1000\n",
      "93/93 [==============================] - 10s 110ms/step - loss: 0.0076 - mse: 0.0076 - val_loss: 0.0103 - val_mse: 0.0103: 0.0074 - mse: - ETA - ETA: 2s - loss\n",
      "Epoch 56/1000\n",
      "93/93 [==============================] - 11s 114ms/step - loss: 0.0077 - mse: 0.0077 - val_loss: 0.0093 - val_mse: 0.0093\n",
      "Epoch 57/1000\n",
      "93/93 [==============================] - 10s 110ms/step - loss: 0.0077 - mse: 0.0077 - val_loss: 0.0131 - val_mse: 0.0131\n",
      "Epoch 58/1000\n",
      "93/93 [==============================] - 10s 108ms/step - loss: 0.0076 - mse: 0.0076 - val_loss: 0.0110 - val_mse: 0.0110.0078 - mse: 0.007 - ETA: 3s - loss: 0.0077 - mse: 0 - ETA:\n",
      "Epoch 59/1000\n",
      "93/93 [==============================] - 10s 107ms/step - loss: 0.0077 - mse: 0.0077 - val_loss: 0.0099 - val_mse: 0.009977 - mse: 0.007\n",
      "Epoch 60/1000\n",
      "93/93 [==============================] - 10s 113ms/step - loss: 0.0075 - mse: 0.0075 - val_loss: 0.0104 - val_mse: 0.0104\n",
      "Epoch 61/1000\n",
      "93/93 [==============================] - 10s 107ms/step - loss: 0.0078 - mse: 0.0078 - val_loss: 0.0158 - val_mse: 0.0158 0.0078 - mse:\n",
      "Epoch 62/1000\n",
      "93/93 [==============================] - 10s 111ms/step - loss: 0.0074 - mse: 0.0074 - val_loss: 0.0095 - val_mse: 0.0095\n",
      "Epoch 63/1000\n",
      "93/93 [==============================] - 10s 112ms/step - loss: 0.0061 - mse: 0.0061 - val_loss: 0.0221 - val_mse: 0.0221ms - ETA: 0s - loss: 0.0061 - mse: 0.\n",
      "Epoch 64/1000\n",
      "93/93 [==============================] - 10s 112ms/step - loss: 0.0055 - mse: 0.0055 - val_loss: 0.0067 - val_mse: 0.0067\n",
      "Epoch 65/1000\n",
      "93/93 [==============================] - 10s 110ms/step - loss: 0.0055 - mse: 0.0055 - val_loss: 0.0088 - val_mse: 0.0088 loss: 0.0055 - mse: 0.\n",
      "Epoch 66/1000\n",
      "93/93 [==============================] - 10s 111ms/step - loss: 0.0056 - mse: 0.0056 - val_loss: 0.0096 - val_mse: 0.0096\n",
      "Epoch 67/1000\n",
      "93/93 [==============================] - 10s 111ms/step - loss: 0.0054 - mse: 0.0054 - val_loss: 0.0074 - val_mse: 0.0074 ETA: 1s - loss: 0.0054 - m\n",
      "Epoch 68/1000\n",
      "93/93 [==============================] - 10s 111ms/step - loss: 0.0053 - mse: 0.0053 - val_loss: 0.0069 - val_mse: 0.0069oss: 0.0055 - mse: 0.005 - ETA: 2s - loss: 0.0055 - mse - ETA: 2s - loss:\n",
      "Epoch 69/1000\n",
      "93/93 [==============================] - 10s 111ms/step - loss: 0.0054 - mse: 0.0054 - val_loss: 0.0065 - val_mse: 0.0065se: 0.005 - ETA: 4s - loss: 0.0053 - - ETA: 3s - loss: 0.0054 - - ETA: 2s - lo\n",
      "Epoch 70/1000\n",
      "93/93 [==============================] - 10s 111ms/step - loss: 0.0052 - mse: 0.0052 - val_loss: 0.0069 - val_mse: 0.0069- ETA: 4s - loss:  - ETA: 2s - loss: 0.0052 - mse: 0.0 - ETA: 2s - lo\n",
      "Epoch 71/1000\n",
      "93/93 [==============================] - 10s 112ms/step - loss: 0.0052 - mse: 0.0052 - val_loss: 0.0059 - val_mse: 0.0059\n",
      "Epoch 72/1000\n",
      "93/93 [==============================] - 10s 111ms/step - loss: 0.0052 - mse: 0.0052 - val_loss: 0.0064 - val_mse: 0.0064\n",
      "Epoch 73/1000\n",
      "93/93 [==============================] - 10s 112ms/step - loss: 0.0050 - mse: 0.0050 - val_loss: 0.0099 - val_mse: 0.0099 loss: 0.0047 - mse: 0.00 - ETA - ET - ETA: 0s - loss: 0.0050 - mse:\n",
      "Epoch 74/1000\n",
      "93/93 [==============================] - 10s 110ms/step - loss: 0.0052 - mse: 0.0052 - val_loss: 0.0096 - val_mse: 0.00961s - loss: 0.00\n",
      "Epoch 75/1000\n",
      "93/93 [==============================] - 10s 111ms/step - loss: 0.0052 - mse: 0.0052 - val_loss: 0.0062 - val_mse: 0.0062- ETA: 4s  - ETA: 1s - loss: 0.0053 - mse: 0.00 - ETA: 1s - loss: 0.0053\n",
      "Epoch 76/1000\n",
      "93/93 [==============================] - 10s 110ms/step - loss: 0.0050 - mse: 0.0050 - val_loss: 0.0107 - val_mse: 0.0107\n",
      "Epoch 77/1000\n",
      "93/93 [==============================] - 10s 111ms/step - loss: 0.0052 - mse: 0.0052 - val_loss: 0.0089 - val_mse: 0.0089\n",
      "Epoch 78/1000\n",
      "93/93 [==============================] - 10s 111ms/step - loss: 0.0053 - mse: 0.0053 - val_loss: 0.0060 - val_mse: 0.0060\n",
      "Epoch 79/1000\n",
      "93/93 [==============================] - 10s 110ms/step - loss: 0.0053 - mse: 0.0053 - val_loss: 0.0071 - val_mse: 0.0071\n",
      "Epoch 80/1000\n",
      "93/93 [==============================] - 10s 113ms/step - loss: 0.0054 - mse: 0.0054 - val_loss: 0.0089 - val_mse: 0.0089\n",
      "Epoch 81/1000\n",
      "93/93 [==============================] - 10s 111ms/step - loss: 0.0053 - mse: 0.0053 - val_loss: 0.0064 - val_mse: 0.0064- loss: 0.0052 - - ETA: 2s - loss: 0.0053 - mse: 0. - ETA: 2s - loss: 0. - ETA: 0s - loss: 0.0054 - mse: 0.00\n",
      "Epoch 82/1000\n",
      "93/93 [==============================] - 10s 110ms/step - loss: 0.0053 - mse: 0.0053 - val_loss: 0.0095 - val_mse: 0.0095\n",
      "Epoch 83/1000\n",
      "92/93 [============================>.] - ETA: 0s - loss: 0.0050 - mse: 0.0050- ETA:\n",
      "Epoch 00083: ReduceLROnPlateau reducing learning rate to 0.00020000000949949026.\n",
      "93/93 [==============================] - 10s 112ms/step - loss: 0.0050 - mse: 0.0050 - val_loss: 0.0065 - val_mse: 0.0065\n",
      "Epoch 84/1000\n",
      "93/93 [==============================] - 10s 112ms/step - loss: 0.0049 - mse: 0.0049 - val_loss: 0.0057 - val_mse: 0.0057\n",
      "Epoch 85/1000\n",
      "93/93 [==============================] - 10s 112ms/step - loss: 0.0045 - mse: 0.0045 - val_loss: 0.0054 - val_mse: 0.0054\n",
      "Epoch 86/1000\n",
      "93/93 [==============================] - 10s 112ms/step - loss: 0.0045 - mse: 0.0045 - val_loss: 0.0054 - val_mse: 0.0054\n",
      "Epoch 87/1000\n",
      "93/93 [==============================] - 10s 111ms/step - loss: 0.0044 - mse: 0.0044 - val_loss: 0.0054 - val_mse: 0.0054\n",
      "Epoch 88/1000\n",
      "93/93 [==============================] - 10s 112ms/step - loss: 0.0045 - mse: 0.0045 - val_loss: 0.0053 - val_mse: 0.0053\n",
      "Epoch 89/1000\n",
      "93/93 [==============================] - 10s 111ms/step - loss: 0.0044 - mse: 0.0044 - val_loss: 0.0057 - val_mse: 0.0057\n",
      "Epoch 90/1000\n",
      "93/93 [==============================] - 10s 111ms/step - loss: 0.0043 - mse: 0.0043 - val_loss: 0.0062 - val_mse: 0.0062\n",
      "Epoch 91/1000\n",
      "93/93 [==============================] - 10s 112ms/step - loss: 0.0043 - mse: 0.0043 - val_loss: 0.0050 - val_mse: 0.0050\n",
      "Epoch 92/1000\n",
      "93/93 [==============================] - 11s 113ms/step - loss: 0.0044 - mse: 0.0044 - val_loss: 0.0052 - val_mse: 0.0052\n",
      "Epoch 93/1000\n",
      "93/93 [==============================] - 10s 113ms/step - loss: 0.0042 - mse: 0.0042 - val_loss: 0.0054 - val_mse: 0.00540\n",
      "Epoch 94/1000\n",
      "93/93 [==============================] - 10s 113ms/step - loss: 0.0042 - mse: 0.0042 - val_loss: 0.0051 - val_mse: 0.0051\n",
      "Epoch 95/1000\n",
      "93/93 [==============================] - 11s 117ms/step - loss: 0.0043 - mse: 0.0043 - val_loss: 0.0054 - val_mse: 0.0054\n",
      "Epoch 96/1000\n",
      "93/93 [==============================] - 10s 112ms/step - loss: 0.0042 - mse: 0.0042 - val_loss: 0.0054 - val_mse: 0.0054- - ETA: 0s - loss: 0.0042 - mse\n",
      "Epoch 97/1000\n",
      "93/93 [==============================] - 10s 111ms/step - loss: 0.0043 - mse: 0.0043 - val_loss: 0.0052 - val_mse: 0.0052 0.00 - ETA: 1s - loss: 0.0\n",
      "Epoch 98/1000\n",
      "93/93 [==============================] - 10s 110ms/step - loss: 0.0043 - mse: 0.0043 - val_loss: 0.0052 - val_mse: 0.0052\n",
      "Epoch 99/1000\n",
      "93/93 [==============================] - 10s 111ms/step - loss: 0.0042 - mse: 0.0042 - val_loss: 0.0052 - val_mse: 0.0052 lo - ETA: 1s - loss: 0.0043 - mse: - ETA: 1s - loss: 0.0042 - mse: - ETA: 0s - loss: 0.0042 - mse: 0.\n",
      "Epoch 100/1000\n",
      "93/93 [==============================] - 10s 110ms/step - loss: 0.0043 - mse: 0.0043 - val_loss: 0.0051 - val_mse: 0.0051ETA: 1s - loss: 0.0043 \n",
      "Epoch 101/1000\n",
      "93/93 [==============================] - 10s 111ms/step - loss: 0.0042 - mse: 0.0042 - val_loss: 0.0052 - val_mse: 0.00523s - loss: 0.0042 - mse: 0.00 - ETA: 3s - loss: 0.0042 - ms - ETA: 2s\n",
      "Epoch 102/1000\n"
     ]
    },
    {
     "name": "stdout",
     "output_type": "stream",
     "text": [
      "93/93 [==============================] - 11s 113ms/step - loss: 0.0042 - mse: 0.0042 - val_loss: 0.0052 - val_mse: 0.0052TA: 0s - loss: 0.0042 - mse: 0.00\n",
      "Epoch 103/1000\n",
      "93/93 [==============================] - 10s 110ms/step - loss: 0.0041 - mse: 0.0041 - val_loss: 0.0057 - val_mse: 0.0057\n",
      "Epoch 104/1000\n",
      "93/93 [==============================] - 10s 109ms/step - loss: 0.0041 - mse: 0.0041 - val_loss: 0.0051 - val_mse: 0.0051s - loss: 0.0040 - mse: 0.0 - ETA: 1s - loss: \n",
      "Epoch 105/1000\n",
      "93/93 [==============================] - 10s 109ms/step - loss: 0.0041 - mse: 0.0041 - val_loss: 0.0050 - val_mse: 0.0050\n",
      "Epoch 106/1000\n",
      "93/93 [==============================] - 10s 111ms/step - loss: 0.0040 - mse: 0.0040 - val_loss: 0.0050 - val_mse: 0.0050s - loss: 0.0039 - mse: 0.003 - ETA: 0s - loss: 0.0039 - mse: 0\n",
      "Epoch 107/1000\n",
      "93/93 [==============================] - 10s 108ms/step - loss: 0.0040 - mse: 0.0040 - val_loss: 0.0055 - val_mse: 0.0055E\n",
      "Epoch 108/1000\n",
      "93/93 [==============================] - 10s 109ms/step - loss: 0.0040 - mse: 0.0040 - val_loss: 0.0050 - val_mse: 0.0050\n",
      "Epoch 109/1000\n",
      "93/93 [==============================] - 10s 111ms/step - loss: 0.0040 - mse: 0.0040 - val_loss: 0.0050 - val_mse: 0.0050 - loss: 0. - ETA: 6s - \n",
      "Epoch 110/1000\n",
      "93/93 [==============================] - 10s 109ms/step - loss: 0.0039 - mse: 0.0039 - val_loss: 0.0049 - val_mse: 0.0049s: 0.0043 - mse: 0 - ETA: 6s - loss: 0.0042 - mse: 0.004 - ETA: 6s - loss: 0.004 - ETA: 4s - loss: 0.0041 -  - ETA: 3s - loss: 0.0041 - mse - ETA: 2s \n",
      "Epoch 111/1000\n",
      "93/93 [==============================] - 10s 110ms/step - loss: 0.0040 - mse: 0.0040 - val_loss: 0.0056 - val_mse: 0.0056\n",
      "Epoch 112/1000\n",
      "93/93 [==============================] - 11s 118ms/step - loss: 0.0040 - mse: 0.0040 - val_loss: 0.0050 - val_mse: 0.0050\n",
      "Epoch 113/1000\n",
      "93/93 [==============================] - 10s 112ms/step - loss: 0.0040 - mse: 0.0040 - val_loss: 0.0049 - val_mse: 0.0049s - loss: 0.0039 - mse: 0.0 - ETA: 5s - loss: 0.0039 - mse: 0.003 - ETA: 5s - los - ETA: 2s - loss: 0.0039 - mse: - ETA: 2s - loss: 0.0039 - ms - ETA: 1s - loss: 0.0041 - mse:  - ETA: 0s - loss: 0.0040 - mse: 0\n",
      "Epoch 114/1000\n",
      "93/93 [==============================] - 10s 111ms/step - loss: 0.0040 - mse: 0.0040 - val_loss: 0.0050 - val_mse: 0.0050TA:\n",
      "Epoch 115/1000\n",
      "93/93 [==============================] - 11s 114ms/step - loss: 0.0039 - mse: 0.0039 - val_loss: 0.0048 - val_mse: 0.0048 1s - loss: 0.0039 \n",
      "Epoch 116/1000\n",
      "92/93 [============================>.] - ETA: 0s - loss: 0.0039 - mse: 0.0039- ETA: 6s - loss: 0 - ETA: 4s - los - ETA: 2s - loss: 0.0040 - ms - ETA: 1s - loss: 0.0\n",
      "Epoch 00116: ReduceLROnPlateau reducing learning rate to 4.0000001899898055e-05.\n",
      "93/93 [==============================] - 10s 109ms/step - loss: 0.0039 - mse: 0.0039 - val_loss: 0.0048 - val_mse: 0.0048\n",
      "Epoch 117/1000\n",
      "93/93 [==============================] - 10s 111ms/step - loss: 0.0038 - mse: 0.0038 - val_loss: 0.0049 - val_mse: 0.0049\n",
      "Epoch 118/1000\n",
      "93/93 [==============================] - 10s 110ms/step - loss: 0.0036 - mse: 0.0036 - val_loss: 0.0047 - val_mse: 0.0047\n",
      "Epoch 119/1000\n",
      "93/93 [==============================] - 10s 109ms/step - loss: 0.0037 - mse: 0.0037 - val_loss: 0.0049 - val_mse: 0.0049- mse: 0.00 - ETA: 5s - loss:  - ETA: 3s - loss: 0.0037 - mse: 0.00 - ETA: 3s - loss: 0. - ETA: 1s - loss: 0.0037 \n",
      "Epoch 120/1000\n",
      "93/93 [==============================] - 10s 111ms/step - loss: 0.0036 - mse: 0.0036 - val_loss: 0.0048 - val_mse: 0.0048 1s - loss: 0.\n",
      "Epoch 121/1000\n",
      "93/93 [==============================] - 10s 109ms/step - loss: 0.0036 - mse: 0.0036 - val_loss: 0.0048 - val_mse: 0.0048- loss: 0.0035 - mse - ETA: 3s -  - ETA: 0s - loss: 0.0036 - ms\n",
      "Epoch 122/1000\n",
      "93/93 [==============================] - 10s 111ms/step - loss: 0.0036 - mse: 0.0036 - val_loss: 0.0047 - val_mse: 0.0047oss: 0.0035 - mse - ETA\n",
      "Epoch 123/1000\n",
      "93/93 [==============================] - 10s 109ms/step - loss: 0.0036 - mse: 0.0036 - val_loss: 0.0048 - val_mse: 0.0048: 0.0035 - mse: 0 - ETA: 1s - loss: 0.0035 - \n",
      "Epoch 124/1000\n",
      "93/93 [==============================] - 10s 110ms/step - loss: 0.0036 - mse: 0.0036 - val_loss: 0.0047 - val_mse: 0.0047\n",
      "Epoch 125/1000\n",
      "93/93 [==============================] - 11s 114ms/step - loss: 0.0036 - mse: 0.0036 - val_loss: 0.0047 - val_mse: 0.0047 - ETA: 1s - loss: 0.0035 -\n",
      "Epoch 126/1000\n",
      "93/93 [==============================] - 10s 113ms/step - loss: 0.0036 - mse: 0.0036 - val_loss: 0.0046 - val_mse: 0.0046 8s - loss: 0.0039 - mse: 0.0 - ETA: 8s - - ETA: 5s - loss: 0.0037 - ms - ETA: 4s - loss: 0.0037 - - ETA: 3s - loss: 0. - ETA: 1s - loss: 0.0036\n",
      "Epoch 127/1000\n",
      "93/93 [==============================] - 10s 111ms/step - loss: 0.0036 - mse: 0.0036 - val_loss: 0.0046 - val_mse: 0.0046ss: 0.0036 - mse: 0.\n",
      "Epoch 128/1000\n",
      "93/93 [==============================] - 10s 111ms/step - loss: 0.0035 - mse: 0.0035 - val_loss: 0.0047 - val_mse: 0.0047\n",
      "Epoch 129/1000\n",
      "93/93 [==============================] - 10s 112ms/step - loss: 0.0035 - mse: 0.0035 - val_loss: 0.0047 - val_mse: 0.0047\n",
      "Epoch 130/1000\n",
      "93/93 [==============================] - 10s 111ms/step - loss: 0.0035 - mse: 0.0035 - val_loss: 0.0046 - val_mse: 0.0046\n",
      "Epoch 131/1000\n",
      "93/93 [==============================] - 11s 115ms/step - loss: 0.0035 - mse: 0.0035 - val_loss: 0.0048 - val_mse: 0.0048\n",
      "Epoch 132/1000\n",
      "93/93 [==============================] - 11s 114ms/step - loss: 0.0035 - mse: 0.0035 - val_loss: 0.0046 - val_mse: 0.0046\n",
      "Epoch 133/1000\n",
      "93/93 [==============================] - 11s 113ms/step - loss: 0.0034 - mse: 0.0034 - val_loss: 0.0045 - val_mse: 0.0045\n",
      "Epoch 134/1000\n",
      "93/93 [==============================] - 10s 111ms/step - loss: 0.0034 - mse: 0.0034 - val_loss: 0.0045 - val_mse: 0.0045\n",
      "Epoch 135/1000\n",
      "93/93 [==============================] - 10s 113ms/step - loss: 0.0035 - mse: 0.0035 - val_loss: 0.0046 - val_mse: 0.0046\n",
      "Epoch 136/1000\n",
      "93/93 [==============================] - 11s 113ms/step - loss: 0.0034 - mse: 0.0034 - val_loss: 0.0046 - val_mse: 0.0046 7s - loss: 0.0 - ETA: 5s - loss - ETA: 3s - loss - ETA: 1s - loss: 0.0035 -\n",
      "Epoch 137/1000\n",
      "93/93 [==============================] - 11s 113ms/step - loss: 0.0034 - mse: 0.0034 - val_loss: 0.0044 - val_mse: 0.0044\n",
      "Epoch 138/1000\n",
      "93/93 [==============================] - 11s 120ms/step - loss: 0.0034 - mse: 0.0034 - val_loss: 0.0045 - val_mse: 0.0045 4s - loss: 0.0033 - - ETA: 2s - \n",
      "Epoch 139/1000\n",
      "93/93 [==============================] - 10s 112ms/step - loss: 0.0034 - mse: 0.0034 - val_loss: 0.0044 - val_mse: 0.0044\n",
      "Epoch 140/1000\n",
      "78/93 [========================>.....] - ETA: 1s - loss: 0.0033 - mse: 0.0033"
     ]
    }
   ],
   "source": [
    "n_epochs=1000\n",
    "batch_size=5\n",
    "lr=1e-3\n",
    "reg=0.001\n",
    "\n",
    "model = light_param_net(X.shape[1], reg=reg, learning_rate=lr)\n",
    "# model = flexi_net(input_vector_size=X.shape[1], output_size=y[0,:,:,0].shape, reg=reg, learning_rate=lr)\n",
    "# model.load_weights(str(Path(\"./weights\", r_name+'.h5')))#'initial_weights_300foils_04122020.h5')))\n",
    "\n",
    "# data generators\n",
    "train_generator = BatchGenerator(X, y, train_indices, batch_size=batch_size, Xdim=X[0].shape, ydim=y[0].shape)\n",
    "val_generator   = BatchGenerator(X, y, val_indices, batch_size=batch_size, Xdim=X[0].shape, ydim=y[0].shape)\n",
    "test_generator  = BatchGenerator(X, y, test_indices, batch_size=1, Xdim=X[0].shape, ydim=y[0].shape, shuffle=False)\n",
    "\n",
    "# callbacks\n",
    "early_stop = EarlyStopping(monitor='loss', patience=30, restore_best_weights=True, verbose=1)\n",
    "lr_reduce  = ReduceLROnPlateau(monitor='loss', min_lr=0, cooldown=10, factor=0.2, patience=10, verbose=1, mode='min')\n",
    "# lr_reduce = CosineLR(min_lr=1e-12, max_lr=lr, steps_per_epoch=np.ceil(len(train_indices)/batch_size), lr_decay=0.9)\n",
    "# m_save = ModelCheckpoint(str(Path(results_path, 'weights', 'temp_weights.h5')), monitor='val_mse', \n",
    "#                          verbose=0, save_best_only=True, save_weights_only=True, mode='min', period=1)\n",
    "\n",
    "# train model\n",
    "history = model.fit_generator(generator=train_generator, validation_data=val_generator, \n",
    "                             epochs=n_epochs, callbacks=[early_stop, lr_reduce],#, m_save],                              \n",
    "                             verbose=1, workers=1, use_multiprocessing=False)\n",
    "\n",
    "# save history and weights\n",
    "# r_name = (str(datetime.now())[:16]).replace(':','-')\n",
    "# unet.save_weights(str(Path(results_path,'weights', r_name+'.h5')))\n",
    "# save_pkl(history.history, Path(results_path,'weights', r_name+'.pkl'))\n",
    "\n",
    "print('Done.')\n",
    "print(\"Val_loss: %2.4e\" % np.min(history.history['val_loss']))"
   ]
  },
  {
   "cell_type": "markdown",
   "metadata": {},
   "source": [
    "### Batch size vs val_loss\n",
    "\n",
    "- 1: 8.7665e-03\n",
    "- 2: 5.2009e-03\n",
    "- 3: 4.5101e-03\n",
    "- 4: 4.3951e-03\n",
    "- 5: \n",
    "- 6: 3.2506e-03 good\n",
    "- 7: 3.6632e-03\n",
    "- 8: 3.2238e-03 good\n",
    "- 16: 4.9058e-03\n",
    "- 32: 2.4988e-03\n",
    "- 64: 2.7656e-03\n",
    "- 128: OOM\n",
    "- 256: OOM"
   ]
  },
  {
   "cell_type": "code",
   "execution_count": 7,
   "metadata": {},
   "outputs": [],
   "source": [
    "# save history and weights\n",
    "from datetime import datetime\n",
    "r_name = ('train v4 bs'+str(batch_size)+' '+str(datetime.now())[:16]).replace(':','-')\n",
    "model.save_weights(str(Path(weights_path, r_name+'.h5')))\n",
    "save_pkl(history.history, Path(weights_path, r_name+'.pkl'))"
   ]
  },
  {
   "cell_type": "code",
   "execution_count": 9,
   "metadata": {},
   "outputs": [
    {
     "name": "stdout",
     "output_type": "stream",
     "text": [
      "Light parametrization net output shape: (None, 512, 512, 1)\n"
     ]
    }
   ],
   "source": [
    "test_generator  = BatchGenerator(X, y, test_indices, batch_size=1, Xdim=X[0].shape, ydim=y[0].shape, shuffle=False)\n",
    "model = light_param_net(X.shape[1], reg=1, learning_rate=1e-5)\n",
    "model.load_weights(str(Path(\"./weights\", '2020-12-26 10-56.h5')))"
   ]
  },
  {
   "cell_type": "code",
   "execution_count": 15,
   "metadata": {},
   "outputs": [],
   "source": [
    "# model.save(Path(\"./weights\", '512x512.h5'),include_optimizer=True)"
   ]
  },
  {
   "cell_type": "code",
   "execution_count": 26,
   "metadata": {
    "scrolled": false
   },
   "outputs": [
    {
     "data": {
      "text/plain": [
       "<matplotlib.image.AxesImage at 0x1fb7c97b948>"
      ]
     },
     "execution_count": 26,
     "metadata": {},
     "output_type": "execute_result"
    },
    {
     "data": {
      "image/png": "[encoded data removed]",
      "text/plain": [
       "<Figure size 864x864 with 1 Axes>"
      ]
     },
     "metadata": {
      "needs_background": "light"
     },
     "output_type": "display_data"
    },
    {
     "data": {
      "image/png": "[encoded data removed]",
      "text/plain": [
       "<Figure size 864x864 with 1 Axes>"
      ]
     },
     "metadata": {
      "needs_background": "light"
     },
     "output_type": "display_data"
    },
    {
     "data": {
      "image/png": "[encoded data removed]",
      "text/plain": [
       "<Figure size 864x864 with 1 Axes>"
      ]
     },
     "metadata": {
      "needs_background": "light"
     },
     "output_type": "display_data"
    }
   ],
   "source": [
    "X_test, y_test = test_generator[1]\n",
    "X_test = np.expand_dims(X_test[0], 0)\n",
    "y_test = np.expand_dims(y_test[0], 0)\n",
    "\n",
    "y_pred = model.predict(X_test)\n",
    "# plt.figure(figsize=(12,12))\n",
    "# plt.matshow(y_test[0,:,:,0],0)\n",
    "plt.figure(figsize=(12,12))\n",
    "plt.matshow(y_test[0,:,:,0],0)\n",
    "plt.figure(figsize=(12,12))\n",
    "plt.matshow((np.round(y_pred[0,:,:,0])-y_test[0,:,:,0]),0)\n",
    "plt.figure(figsize=(12,12))\n",
    "plt.matshow(y_pred[0,:,:,0],0)"
   ]
  },
  {
   "cell_type": "code",
   "execution_count": null,
   "metadata": {},
   "outputs": [],
   "source": [
    "raise Exception"
   ]
  },
  {
   "cell_type": "code",
   "execution_count": 11,
   "metadata": {},
   "outputs": [],
   "source": [
    "        "
   ]
  },
  {
   "cell_type": "code",
   "execution_count": 12,
   "metadata": {},
   "outputs": [
    {
     "data": {
      "text/plain": [
       "<matplotlib.image.AxesImage at 0x14d5d818a48>"
      ]
     },
     "execution_count": 12,
     "metadata": {},
     "output_type": "execute_result"
    },
    {
     "data": {
      "image/png": "[encoded data removed]",
      "text/plain": [
       "<Figure size 1152x432 with 1 Axes>"
      ]
     },
     "metadata": {
      "needs_background": "light"
     },
     "output_type": "display_data"
    }
   ],
   "source": [
    "y = np.round(y_pred)[0, :, :, 0]\n",
    "plt.figure(figsize=(16,6))\n",
    "plt.matshow(y,0)"
   ]
  },
  {
   "cell_type": "code",
   "execution_count": 13,
   "metadata": {},
   "outputs": [
    {
     "data": {
      "text/plain": [
       "(22, 257, 486)"
      ]
     },
     "execution_count": 13,
     "metadata": {},
     "output_type": "execute_result"
    }
   ],
   "source": [
    "# ищем координаты\n",
    "\n",
    "# сначала определим координаты начала и конца оси профиля\n",
    "\n",
    "for x_nose in range(y.shape[1]):\n",
    "    res = find_first_and_last_1_position(y[:, x_nose])\n",
    "    if res!=-1:\n",
    "        y_nose_top, y_nose_bot = res\n",
    "        break\n",
    "        \n",
    "for x_tail in range(y.shape[1]-1,0,-1):\n",
    "    res = find_first_and_last_1_position(y[:, x_tail])\n",
    "    if res!=-1:\n",
    "        y_tail_top, y_tail_bot = res\n",
    "        break\n",
    "\n",
    "if y_nose_top!=y_nose_bot: # ставим точку в середине носика, пригодится для красивой аппроксимации\n",
    "    y_nose = int(np.average((y_nose_top, y_nose_bot)))\n",
    "    y[y_nose,x_nose-1]=1\n",
    "    x_nose-=1\n",
    "\n",
    "if y_tail_top!=y_tail_bot: # а на хвостике не ставим и вообще хз чё делаем - к Димке\n",
    "    pass\n",
    "#     y_tail = int(np.average((y_tail_top, y_tail_bot)))\n",
    "# else:\n",
    "#     y_tail = y_tail_top\n",
    "    \n",
    "x_nose, y_nose, x_tail"
   ]
  },
  {
   "cell_type": "code",
   "execution_count": 14,
   "metadata": {},
   "outputs": [
    {
     "data": {
      "text/plain": [
       "<matplotlib.image.AxesImage at 0x14d5d881a08>"
      ]
     },
     "execution_count": 14,
     "metadata": {},
     "output_type": "execute_result"
    },
    {
     "data": {
      "image/png": "[encoded data removed]",
      "text/plain": [
       "<Figure size 1728x576 with 1 Axes>"
      ]
     },
     "metadata": {
      "needs_background": "light"
     },
     "output_type": "display_data"
    }
   ],
   "source": [
    "\n",
    "plt.figure(figsize=(24,8))\n",
    "plt.matshow(y[:],0)"
   ]
  },
  {
   "cell_type": "code",
   "execution_count": 15,
   "metadata": {},
   "outputs": [],
   "source": [
    "foil_x_top = (np.arange(y.shape[1])).tolist(); foil_x_top.reverse()\n",
    "foil_x_bot = foil_x_top.copy() #foil_x[:-1]; x2.reverse() ; foil_x.extend(x2)"
   ]
  },
  {
   "cell_type": "code",
   "execution_count": 16,
   "metadata": {},
   "outputs": [],
   "source": [
    "foil_y_top=[]\n",
    "foil_y_bot=[]\n",
    "for x in foil_x_top:\n",
    "    if find_first_and_last_1_position(y[:, x])==-1: raise Exception\n",
    "    y_t, y_b = find_first_and_last_1_position(y[:, x])\n",
    "    foil_y_top.append(y_nose - y_t)\n",
    "    foil_y_bot.append(y_nose - y_b)\n",
    "foil_x_bot = foil_x_bot[:-1]\n",
    "foil_x_bot.reverse()\n",
    "foil_y_bot = foil_y_bot[:-1]\n",
    "foil_y_bot.reverse()\n",
    "foil_x_top.extend(foil_x_bot)\n",
    "foil_y_top.extend(foil_y_bot)\n",
    "foil_x = np.array(foil_x_top)/(y.shape[1]-1)\n",
    "foil_y = np.array(foil_y_top)/(y.shape[1]-1)\n",
    "foil_x.shape, foil_y.shape"
   ]
  },
  {
   "cell_type": "code",
   "execution_count": 19,
   "metadata": {},
   "outputs": [
    {
     "data": {
      "image/png": "[encoded data removed]",
      "text/plain": [
       "<Figure size 864x216 with 1 Axes>"
      ]
     },
     "metadata": {
      "needs_background": "light"
     },
     "output_type": "display_data"
    }
   ],
   "source": [
    "fig = plt.figure(figsize=(12,3),  frameon=False)\n",
    "canvas = FigureCanvasAgg(fig)\n",
    "ax = fig.add_axes([0.,0.,1.,1.])\n",
    "ax.fill(foil_x, foil_y, 'black')\n",
    "ax.axis('equal');\n",
    "ax.axis('off');\n",
    "s, (width, height) = canvas.print_to_buffer()"
   ]
  },
  {
   "cell_type": "code",
   "execution_count": 28,
   "metadata": {},
   "outputs": [],
   "source": [
    "f_x, f_y = interpolate_airfoil(foil_x, foil_y, 256)"
   ]
  },
  {
   "cell_type": "code",
   "execution_count": 29,
   "metadata": {},
   "outputs": [
    {
     "ename": "Exception",
     "evalue": "",
     "output_type": "error",
     "traceback": [
      "\u001b[1;31m---------------------------------------------------------------------------\u001b[0m",
      "\u001b[1;31mException\u001b[0m                                 Traceback (most recent call last)",
      "\u001b[1;32m<ipython-input-29-3bacc078521e>\u001b[0m in \u001b[0;36m<module>\u001b[1;34m\u001b[0m\n\u001b[0;32m     12\u001b[0m     \u001b[0mxf\u001b[0m\u001b[1;33m.\u001b[0m\u001b[0mRe\u001b[0m \u001b[1;33m=\u001b[0m \u001b[0mRe\u001b[0m\u001b[1;33m[\u001b[0m\u001b[0mnum\u001b[0m\u001b[1;33m]\u001b[0m\u001b[1;33m\u001b[0m\u001b[1;33m\u001b[0m\u001b[0m\n\u001b[0;32m     13\u001b[0m     \u001b[0ma\u001b[0m\u001b[1;33m,\u001b[0m \u001b[0mcl\u001b[0m\u001b[1;33m,\u001b[0m \u001b[0mcd\u001b[0m\u001b[1;33m,\u001b[0m \u001b[0mcm\u001b[0m\u001b[1;33m,\u001b[0m \u001b[0mcp\u001b[0m \u001b[1;33m=\u001b[0m \u001b[0mxf\u001b[0m\u001b[1;33m.\u001b[0m\u001b[0maseq\u001b[0m\u001b[1;33m(\u001b[0m\u001b[0malfa_min\u001b[0m\u001b[1;33m,\u001b[0m \u001b[0malfa_max\u001b[0m\u001b[1;33m,\u001b[0m \u001b[0malfa_step\u001b[0m\u001b[1;33m)\u001b[0m\u001b[1;33m\u001b[0m\u001b[1;33m\u001b[0m\u001b[0m\n\u001b[1;32m---> 14\u001b[1;33m     \u001b[1;32mraise\u001b[0m \u001b[0mException\u001b[0m\u001b[1;33m\u001b[0m\u001b[1;33m\u001b[0m\u001b[0m\n\u001b[0m",
      "\u001b[1;31mException\u001b[0m: "
     ]
    }
   ],
   "source": [
    "# set list of Re's\n",
    "Re = np.linspace(re_min, re_max, n_points_Re).astype(int)\n",
    "# get list of alfas and alfa step\n",
    "alfa_step, alfas = get_alfa_step(alfa_min, alfa_max, n_points_alfa)\n",
    "\n",
    "current_foil = Airfoil(f_x, f_y)\n",
    "xf = XFoil()\n",
    "xf.airfoil = current_foil\n",
    "xf.max_iter = xfoil_max_iterations\n",
    "for num in range(16):\n",
    "\n",
    "    xf.Re = Re[num]        \n",
    "    a, cl, cd, cm, cp = xf.aseq(alfa_min, alfa_max, alfa_step)\n",
    "    raise Exception"
   ]
  },
  {
   "cell_type": "code",
   "execution_count": 31,
   "metadata": {},
   "outputs": [
    {
     "data": {
      "text/plain": [
       "array([0.02837718, 0.02839214,        nan, 0.02836622, 0.02817133,\n",
       "       0.02833435, 0.02826537, 0.02814429,        nan, 0.02774858,\n",
       "       0.02756903, 0.02694843, 0.02696838, 0.02691632, 0.02691655,\n",
       "       0.02713087, 0.02756391, 0.02802133, 0.02832558, 0.02898849,\n",
       "       0.02910685, 0.03026072, 0.0305083 , 0.03105625, 0.03270565,\n",
       "       0.0311233 , 0.0314392 , 0.03160494, 0.03249761, 0.03365809,\n",
       "       0.03503241, 0.03579408])"
      ]
     },
     "execution_count": 31,
     "metadata": {},
     "output_type": "execute_result"
    }
   ],
   "source": [
    "cd"
   ]
  },
  {
   "cell_type": "code",
   "execution_count": 4,
   "metadata": {},
   "outputs": [
    {
     "ename": "OSError",
     "evalue": "[WinError 193] %1 is not a valid Win32 application",
     "output_type": "error",
     "traceback": [
      "\u001b[1;31m---------------------------------------------------------------------------\u001b[0m",
      "\u001b[1;31mOSError\u001b[0m                                   Traceback (most recent call last)",
      "\u001b[1;32m<ipython-input-4-6468ceae391a>\u001b[0m in \u001b[0;36m<module>\u001b[1;34m()\u001b[0m\n\u001b[1;32m----> 1\u001b[1;33m \u001b[0mxf\u001b[0m \u001b[1;33m=\u001b[0m \u001b[0mXFoil\u001b[0m\u001b[1;33m(\u001b[0m\u001b[1;33m)\u001b[0m\u001b[1;33m\u001b[0m\u001b[1;33m\u001b[0m\u001b[0m\n\u001b[0m",
      "\u001b[1;32mC:\\Users\\Oleg\\miniconda3\\envs\\tf200\\lib\\site-packages\\xfoil\\xfoil.py\u001b[0m in \u001b[0;36m__init__\u001b[1;34m(self)\u001b[0m\n\u001b[0;32m     54\u001b[0m         \u001b[0mself\u001b[0m\u001b[1;33m.\u001b[0m\u001b[0m_lib_path\u001b[0m \u001b[1;33m=\u001b[0m \u001b[0mtmp\u001b[0m\u001b[1;33m.\u001b[0m\u001b[0mname\u001b[0m\u001b[1;33m\u001b[0m\u001b[1;33m\u001b[0m\u001b[0m\n\u001b[0;32m     55\u001b[0m         \u001b[0mcopy2\u001b[0m\u001b[1;33m(\u001b[0m\u001b[0mlib_path\u001b[0m\u001b[1;33m,\u001b[0m \u001b[0mself\u001b[0m\u001b[1;33m.\u001b[0m\u001b[0m_lib_path\u001b[0m\u001b[1;33m)\u001b[0m\u001b[1;33m\u001b[0m\u001b[1;33m\u001b[0m\u001b[0m\n\u001b[1;32m---> 56\u001b[1;33m         \u001b[0mself\u001b[0m\u001b[1;33m.\u001b[0m\u001b[0m_lib\u001b[0m \u001b[1;33m=\u001b[0m \u001b[0mcdll\u001b[0m\u001b[1;33m.\u001b[0m\u001b[0mLoadLibrary\u001b[0m\u001b[1;33m(\u001b[0m\u001b[0mself\u001b[0m\u001b[1;33m.\u001b[0m\u001b[0m_lib_path\u001b[0m\u001b[1;33m)\u001b[0m\u001b[1;33m\u001b[0m\u001b[1;33m\u001b[0m\u001b[0m\n\u001b[0m\u001b[0;32m     57\u001b[0m         \u001b[0mself\u001b[0m\u001b[1;33m.\u001b[0m\u001b[0m_lib\u001b[0m\u001b[1;33m.\u001b[0m\u001b[0minit\u001b[0m\u001b[1;33m(\u001b[0m\u001b[1;33m)\u001b[0m\u001b[1;33m\u001b[0m\u001b[1;33m\u001b[0m\u001b[0m\n\u001b[0;32m     58\u001b[0m         \u001b[0mself\u001b[0m\u001b[1;33m.\u001b[0m\u001b[0m_airfoil\u001b[0m \u001b[1;33m=\u001b[0m \u001b[1;32mNone\u001b[0m\u001b[1;33m\u001b[0m\u001b[1;33m\u001b[0m\u001b[0m\n",
      "\u001b[1;32mC:\\Users\\Oleg\\miniconda3\\envs\\tf200\\lib\\ctypes\\__init__.py\u001b[0m in \u001b[0;36mLoadLibrary\u001b[1;34m(self, name)\u001b[0m\n\u001b[0;32m    424\u001b[0m \u001b[1;33m\u001b[0m\u001b[0m\n\u001b[0;32m    425\u001b[0m     \u001b[1;32mdef\u001b[0m \u001b[0mLoadLibrary\u001b[0m\u001b[1;33m(\u001b[0m\u001b[0mself\u001b[0m\u001b[1;33m,\u001b[0m \u001b[0mname\u001b[0m\u001b[1;33m)\u001b[0m\u001b[1;33m:\u001b[0m\u001b[1;33m\u001b[0m\u001b[1;33m\u001b[0m\u001b[0m\n\u001b[1;32m--> 426\u001b[1;33m         \u001b[1;32mreturn\u001b[0m \u001b[0mself\u001b[0m\u001b[1;33m.\u001b[0m\u001b[0m_dlltype\u001b[0m\u001b[1;33m(\u001b[0m\u001b[0mname\u001b[0m\u001b[1;33m)\u001b[0m\u001b[1;33m\u001b[0m\u001b[1;33m\u001b[0m\u001b[0m\n\u001b[0m\u001b[0;32m    427\u001b[0m \u001b[1;33m\u001b[0m\u001b[0m\n\u001b[0;32m    428\u001b[0m \u001b[0mcdll\u001b[0m \u001b[1;33m=\u001b[0m \u001b[0mLibraryLoader\u001b[0m\u001b[1;33m(\u001b[0m\u001b[0mCDLL\u001b[0m\u001b[1;33m)\u001b[0m\u001b[1;33m\u001b[0m\u001b[1;33m\u001b[0m\u001b[0m\n",
      "\u001b[1;32mC:\\Users\\Oleg\\miniconda3\\envs\\tf200\\lib\\ctypes\\__init__.py\u001b[0m in \u001b[0;36m__init__\u001b[1;34m(self, name, mode, handle, use_errno, use_last_error)\u001b[0m\n\u001b[0;32m    346\u001b[0m \u001b[1;33m\u001b[0m\u001b[0m\n\u001b[0;32m    347\u001b[0m         \u001b[1;32mif\u001b[0m \u001b[0mhandle\u001b[0m \u001b[1;32mis\u001b[0m \u001b[1;32mNone\u001b[0m\u001b[1;33m:\u001b[0m\u001b[1;33m\u001b[0m\u001b[1;33m\u001b[0m\u001b[0m\n\u001b[1;32m--> 348\u001b[1;33m             \u001b[0mself\u001b[0m\u001b[1;33m.\u001b[0m\u001b[0m_handle\u001b[0m \u001b[1;33m=\u001b[0m \u001b[0m_dlopen\u001b[0m\u001b[1;33m(\u001b[0m\u001b[0mself\u001b[0m\u001b[1;33m.\u001b[0m\u001b[0m_name\u001b[0m\u001b[1;33m,\u001b[0m \u001b[0mmode\u001b[0m\u001b[1;33m)\u001b[0m\u001b[1;33m\u001b[0m\u001b[1;33m\u001b[0m\u001b[0m\n\u001b[0m\u001b[0;32m    349\u001b[0m         \u001b[1;32melse\u001b[0m\u001b[1;33m:\u001b[0m\u001b[1;33m\u001b[0m\u001b[1;33m\u001b[0m\u001b[0m\n\u001b[0;32m    350\u001b[0m             \u001b[0mself\u001b[0m\u001b[1;33m.\u001b[0m\u001b[0m_handle\u001b[0m \u001b[1;33m=\u001b[0m \u001b[0mhandle\u001b[0m\u001b[1;33m\u001b[0m\u001b[1;33m\u001b[0m\u001b[0m\n",
      "\u001b[1;31mOSError\u001b[0m: [WinError 193] %1 is not a valid Win32 application"
     ]
    }
   ],
   "source": [
    "xf = XFoil()"
   ]
  },
  {
   "cell_type": "code",
   "execution_count": 23,
   "metadata": {},
   "outputs": [],
   "source": [
    "import config\n"
   ]
  },
  {
   "cell_type": "code",
   "execution_count": 24,
   "metadata": {},
   "outputs": [
    {
     "ename": "AttributeError",
     "evalue": "module 'config' has no attribute 'Re'",
     "output_type": "error",
     "traceback": [
      "\u001b[1;31m---------------------------------------------------------------------------\u001b[0m",
      "\u001b[1;31mAttributeError\u001b[0m                            Traceback (most recent call last)",
      "\u001b[1;32m<ipython-input-24-2e99ee927d8d>\u001b[0m in \u001b[0;36m<module>\u001b[1;34m\u001b[0m\n\u001b[1;32m----> 1\u001b[1;33m \u001b[0mconfig\u001b[0m\u001b[1;33m.\u001b[0m\u001b[0mRe\u001b[0m\u001b[1;33m\u001b[0m\u001b[1;33m\u001b[0m\u001b[0m\n\u001b[0m",
      "\u001b[1;31mAttributeError\u001b[0m: module 'config' has no attribute 'Re'"
     ]
    }
   ],
   "source": [
    "config.Re"
   ]
  },
  {
   "cell_type": "code",
   "execution_count": null,
   "metadata": {},
   "outputs": [],
   "source": []
  },
  {
   "cell_type": "code",
   "execution_count": null,
   "metadata": {},
   "outputs": [],
   "source": []
  },
  {
   "cell_type": "code",
   "execution_count": 255,
   "metadata": {},
   "outputs": [
    {
     "data": {
      "text/plain": [
       "array([ 1.00000000e+00,  9.78822842e-01,  9.56628964e-01,  9.34466611e-01,\n",
       "        9.11833094e-01,  8.89197903e-01,  8.65163451e-01,  8.43471751e-01,\n",
       "        8.20380303e-01,  7.97399321e-01,  7.73751246e-01,  7.51108000e-01,\n",
       "        7.28928454e-01,  7.04979917e-01,  6.81836347e-01,  6.57839994e-01,\n",
       "        6.34746949e-01,  6.11204402e-01,  5.87628664e-01,  5.64092901e-01,\n",
       "        5.40558285e-01,  5.16556265e-01,  4.92554244e-01,  4.69463582e-01,\n",
       "        4.45473249e-01,  4.21003857e-01,  3.96546143e-01,  3.73927724e-01,\n",
       "        3.50364841e-01,  3.27732220e-01,  3.03727829e-01,  2.80181480e-01,\n",
       "        2.56635184e-01,  2.33090633e-01,  2.09540389e-01,  1.85995122e-01,\n",
       "        1.62905375e-01,  1.40270285e-01,  1.18092448e-01,  9.81206170e-02,\n",
       "        7.50923075e-02,  5.48236153e-02,  3.34411074e-02,  1.24792319e-02,\n",
       "       -9.65488169e-04, -3.81271181e-03, -1.58921242e-03,  5.41915016e-03,\n",
       "        1.69265161e-02,  3.26470255e-02,  5.22948185e-02,  7.55840352e-02,\n",
       "        1.02228816e-01,  1.31943301e-01,  1.64441630e-01,  1.99437943e-01,\n",
       "        2.36646381e-01,  2.75781083e-01,  3.16556190e-01,  3.58685842e-01,\n",
       "        4.01884180e-01,  4.45865342e-01,  4.90343470e-01,  5.35032703e-01,\n",
       "        5.79647182e-01,  6.23901047e-01,  6.67508438e-01,  7.10183494e-01,\n",
       "        7.51640357e-01,  7.91593167e-01,  8.29756063e-01,  8.65843185e-01,\n",
       "        8.99568675e-01,  9.30646671e-01,  9.58791315e-01,  9.83716745e-01,\n",
       "        1.00513710e+00,  1.02276653e+00,  1.03631916e+00,  1.04550914e+00,\n",
       "        1.05005061e+00,  1.04965771e+00,  1.04404458e+00,  1.03292535e+00,\n",
       "        1.01601417e+00,  9.93243458e-01,  9.69241359e-01,  9.46150774e-01,\n",
       "        9.22583133e-01,  8.98601703e-01,  8.75502084e-01,  8.53769356e-01,\n",
       "        8.29330426e-01,  8.04872724e-01,  7.80872381e-01,  7.56868679e-01,\n",
       "        7.32826767e-01,  7.08408954e-01,  6.83951162e-01,  6.59950788e-01,\n",
       "        6.36259158e-01,  6.11945075e-01,  5.88854523e-01,  5.65018320e-01,\n",
       "        5.41306159e-01,  5.17842460e-01,  4.95126773e-01,  4.72034176e-01,\n",
       "        4.49435491e-01,  4.26310584e-01,  4.02306511e-01,  3.78759369e-01,\n",
       "        3.54758147e-01,  3.30300445e-01,  3.06298432e-01,  2.81840720e-01,\n",
       "        2.57736249e-01,  2.33836675e-01,  2.09834121e-01,  1.85377486e-01,\n",
       "        1.62286249e-01,  1.37836300e-01,  1.15649301e-01,  9.16178541e-02,\n",
       "        6.90110856e-02,  4.50102371e-02,  2.19309051e-02,  1.10011001e-03])"
      ]
     },
     "execution_count": 255,
     "metadata": {},
     "output_type": "execute_result"
    }
   ],
   "source": [
    "f_x"
   ]
  },
  {
   "cell_type": "code",
   "execution_count": 225,
   "metadata": {},
   "outputs": [],
   "source": [
    "c = np.array([a,b]).T"
   ]
  },
  {
   "cell_type": "code",
   "execution_count": 227,
   "metadata": {},
   "outputs": [
    {
     "data": {
      "text/plain": [
       "array([[1, 4],\n",
       "       [2, 5],\n",
       "       [3, 6],\n",
       "       [4, 4]])"
      ]
     },
     "execution_count": 227,
     "metadata": {},
     "output_type": "execute_result"
    }
   ],
   "source": [
    "c.shape\n",
    "c"
   ]
  },
  {
   "cell_type": "code",
   "execution_count": 131,
   "metadata": {},
   "outputs": [
    {
     "data": {
      "text/plain": [
       "[3, 2, 1]"
      ]
     },
     "execution_count": 131,
     "metadata": {},
     "output_type": "execute_result"
    }
   ],
   "source": [
    "xo = x.copy()\n",
    "xo.reverse()\n",
    "xo"
   ]
  },
  {
   "cell_type": "code",
   "execution_count": 132,
   "metadata": {},
   "outputs": [],
   "source": [
    "x.extend(xo)"
   ]
  },
  {
   "cell_type": "code",
   "execution_count": 133,
   "metadata": {},
   "outputs": [
    {
     "data": {
      "text/plain": [
       "[1, 2, 3, 3, 2, 1]"
      ]
     },
     "execution_count": 133,
     "metadata": {},
     "output_type": "execute_result"
    }
   ],
   "source": [
    "x"
   ]
  },
  {
   "cell_type": "code",
   "execution_count": 113,
   "metadata": {},
   "outputs": [
    {
     "data": {
      "text/plain": [
       "[3, 2, 1]"
      ]
     },
     "execution_count": 113,
     "metadata": {},
     "output_type": "execute_result"
    }
   ],
   "source": [
    "x"
   ]
  },
  {
   "cell_type": "code",
   "execution_count": 60,
   "metadata": {},
   "outputs": [
    {
     "data": {
      "text/plain": [
       "(147,)"
      ]
     },
     "execution_count": 60,
     "metadata": {},
     "output_type": "execute_result"
    }
   ],
   "source": [
    "ind = np.unravel_index(np.argmax(y[:,49]), y[:,49].shape)\n",
    "ind"
   ]
  },
  {
   "cell_type": "code",
   "execution_count": 84,
   "metadata": {},
   "outputs": [
    {
     "data": {
      "text/plain": [
       "153"
      ]
     },
     "execution_count": 84,
     "metadata": {},
     "output_type": "execute_result"
    }
   ],
   "source": [
    "x"
   ]
  },
  {
   "cell_type": "code",
   "execution_count": 21,
   "metadata": {},
   "outputs": [],
   "source": [
    "xt = X_test.reshape(6,16,32)"
   ]
  },
  {
   "cell_type": "code",
   "execution_count": 23,
   "metadata": {},
   "outputs": [
    {
     "data": {
      "text/plain": [
       "array([-0.05936276, -0.01701933,  0.0171289 ,  0.0494599 ,  0.08075152,\n",
       "        0.111234  ,  0.14099106,  0.17000559,  0.19828717,  0.22578268,\n",
       "        0.25237799,  0.27791429,  0.30227628,  0.3253468 ,  0.35581368,\n",
       "        0.45017675,  0.52773142,  0.5996455 ,  0.66019589,  0.71231872,\n",
       "        0.74865282,  0.78221673,  0.81368822,  0.84336275,  0.87164384,\n",
       "        0.89902073,  0.92604083,  0.95123965,  0.97374296,  0.98991495,\n",
       "        1.00836194,  1.03475928])"
      ]
     },
     "execution_count": 23,
     "metadata": {},
     "output_type": "execute_result"
    }
   ],
   "source": [
    "xt[0,0,:] = [1]"
   ]
  }
 ],
 "metadata": {
  "kernelspec": {
   "display_name": "Python 3",
   "language": "python",
   "name": "python3"
  },
  "language_info": {
   "codemirror_mode": {
    "name": "ipython",
    "version": 3
   },
   "file_extension": ".py",
   "mimetype": "text/x-python",
   "name": "python",
   "nbconvert_exporter": "python",
   "pygments_lexer": "ipython3",
   "version": "3.7.4"
  }
 },
 "nbformat": 4,
 "nbformat_minor": 4
}
