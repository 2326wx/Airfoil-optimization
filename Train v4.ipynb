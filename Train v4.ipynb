{
 "cells": [
  {
   "cell_type": "code",
   "execution_count": 1,
   "metadata": {},
   "outputs": [],
   "source": [
    "from pathlib import Path\n",
    "import numpy as np\n",
    "from numpy.random import shuffle, seed\n",
    "import matplotlib.pyplot as plt\n",
    "from matplotlib.backends.backend_agg import FigureCanvasAgg\n",
    "import os\n",
    "import gc\n",
    "\n",
    "from xfoil import XFoil\n",
    "from xfoil.model import Airfoil\n",
    "\n",
    "from lib.utils import load_pkl, save_pkl\n",
    "from config import *\n",
    "from lib.dl_modules import BatchGenerator\n",
    "from lib.preprocess_modules import interpolate_airfoil, get_alfa_step\n",
    "from nets.nn import *"
   ]
  },
  {
   "cell_type": "code",
   "execution_count": 2,
   "metadata": {},
   "outputs": [
    {
     "data": {
      "text/plain": [
       "[(256, 1024), (512, 512)]"
      ]
     },
     "execution_count": 2,
     "metadata": {},
     "output_type": "execute_result"
    }
   ],
   "source": [
    "# available resolutions\n",
    "bitmap_outputs"
   ]
  },
  {
   "cell_type": "code",
   "execution_count": 3,
   "metadata": {},
   "outputs": [],
   "source": [
    "bitmap_output_number = 1\n",
    "\n",
    "# create dataset for selected bitmap output\n",
    "pkl_folder = str(bitmap_outputs[bitmap_output_number][0])+'x'+str(bitmap_outputs[bitmap_output_number][1])\n",
    "\n",
    "# dataset config\n",
    "incl_data = { 'Cl'  : True,\n",
    "              'Cd'  : True,\n",
    "              'Cm'  : True,\n",
    "              'Cp'  : True,\n",
    "              'd'   : True,\n",
    "              'S'   : True,\n",
    "              'Re'  : False,\n",
    "              'alfa': False }\n",
    "\n",
    "# count samples amount\n",
    "samples_amount = len(os.listdir(Path(foils_bmp_path, pkl_folder)))\n",
    "# samples_amount = 138\n",
    "\n",
    "# count data layers\n",
    "n_data_layers = 0\n",
    "for key in incl_data.keys():\n",
    "    if incl_data[key]: n_data_layers+=1"
   ]
  },
  {
   "cell_type": "code",
   "execution_count": 4,
   "metadata": {},
   "outputs": [
    {
     "name": "stdout",
     "output_type": "stream",
     "text": [
      "Total samples: 625, layers in sample: 6.\n",
      "Taking data from 512x512 folder...\n",
      "Created empty arrays: X((625, 6, 16, 32)) and y((625, 512, 512, 1)), import data...\n",
      "ea81006.pkl excluded.\n",
      "ebambino7.pkl excluded.\n",
      "eiffel428.pkl excluded.\n",
      "eiffel430.pkl excluded.\n",
      "goe388.pkl excluded.\n",
      "goe451.pkl excluded.\n",
      "goe802a.pkl excluded.\n",
      "goe802b.pkl excluded.\n",
      "naca63206.pkl excluded.\n",
      "naca63a210.pkl excluded.\n",
      "rc1064c.pkl excluded.\n",
      "saratov.pkl excluded.\n",
      "ua79sff.pkl excluded.\n",
      "Saving...\n",
      "Done.\n",
      "Totally foils in arrays: 612\n"
     ]
    }
   ],
   "source": [
    "print('Total samples: %i, layers in sample: %i.' % (samples_amount, n_data_layers))\n",
    "print('Taking data from %s folder...' % pkl_folder)\n",
    "\n",
    "X = np.zeros((samples_amount, n_data_layers, n_points_Re, n_points_alfa), dtype='float64')\n",
    "y = np.zeros((samples_amount, bitmap_outputs[bitmap_output_number][0], bitmap_outputs[bitmap_output_number][1], 1), dtype='int8')\n",
    "\n",
    "print('Created empty arrays: X(%s) and y(%s), import data...' % (X.shape, y.shape))\n",
    "\n",
    "sample = 0\n",
    "        \n",
    "for fname in os.listdir(Path(foils_bmp_path, pkl_folder)): \n",
    "    \n",
    "    if sample>samples_amount-1:break\n",
    "        \n",
    "    if fname not in foil_exception_list:\n",
    "        \n",
    "        foil = load_pkl(Path(foils_pkl_path, fname))\n",
    "        \n",
    "        ind_X=0\n",
    "        \n",
    "        for i, key in enumerate(incl_data):\n",
    "            if incl_data[key]:\n",
    "                X[sample, ind_X, :, :] = foil['X'][i, :, :]\n",
    "                ind_X+=1   \n",
    "        y[sample, :, :, :] = np.expand_dims(load_pkl(Path(foils_bmp_path, pkl_folder, fname)), 2)\n",
    "        sample+=1\n",
    "        \n",
    "    else:\n",
    "        print('%s excluded.' % fname)\n",
    "        \n",
    "# reshaping X \n",
    "X = X.reshape(samples_amount, n_data_layers*n_points_Re*n_points_alfa)\n",
    "\n",
    "assert np.sum(np.isnan(X))==0, \"NaNs in X\"\n",
    "assert np.sum(np.isnan(y))==0, \"NaNs in y\"\n",
    "\n",
    "print('Saving...')\n",
    "\n",
    "save_pkl(X, Path(dataset_folder, \"X.pkl\"))\n",
    "save_pkl(y, Path(dataset_folder, \"y.pkl\"))\n",
    "\n",
    "del X, y\n",
    "gc.collect()\n",
    "\n",
    "print('Done.')\n",
    "print(\"Totally foils in arrays: %i\" % (sample))"
   ]
  },
  {
   "cell_type": "code",
   "execution_count": 4,
   "metadata": {},
   "outputs": [
    {
     "data": {
      "text/plain": [
       "((625, 3072), (625, 512, 512, 1))"
      ]
     },
     "execution_count": 4,
     "metadata": {},
     "output_type": "execute_result"
    }
   ],
   "source": [
    "X = load_pkl(Path(dataset_folder, 'X.pkl'))\n",
    "y = load_pkl(Path(dataset_folder, 'y.pkl'))\n",
    "X.shape, y.shape"
   ]
  },
  {
   "cell_type": "code",
   "execution_count": 5,
   "metadata": {},
   "outputs": [],
   "source": [
    "all_indices = np.arange(len(X))\n",
    "seed(42)\n",
    "shuffle(all_indices)\n",
    "\n",
    "n_indices = len(X)\n",
    "train_part = int(n_indices*train_percentage)\n",
    "val_part = int(n_indices*val_percentage)\n",
    "train_part, val_part\n",
    "train_indices = all_indices[:train_part]\n",
    "val_indices = all_indices[train_part:val_part]\n",
    "test_indices = all_indices[val_part:]"
   ]
  },
  {
   "cell_type": "code",
   "execution_count": 47,
   "metadata": {
    "scrolled": true
   },
   "outputs": [
    {
     "name": "stdout",
     "output_type": "stream",
     "text": [
      "Epoch 1/1000\n",
      "78/78 [==============================] - 10s 130ms/step - loss: 6.7563e-04 - mse: 6.7563e-04 - val_loss: 0.0032 - val_mse: 0.0032\n",
      "Epoch 2/1000\n",
      "78/78 [==============================] - 10s 128ms/step - loss: 6.6136e-04 - mse: 6.6136e-04 - val_loss: 0.0032 - val_mse: 0.0032\n",
      "Epoch 3/1000\n",
      "78/78 [==============================] - 10s 126ms/step - loss: 6.5506e-04 - mse: 6.5506e-04 - val_loss: 0.0034 - val_mse: 0.0034\n",
      "Epoch 4/1000\n",
      "78/78 [==============================] - 10s 124ms/step - loss: 6.6385e-04 - mse: 6.6385e-04 - val_loss: 0.0031 - val_mse: 0.0031\n",
      "Epoch 5/1000\n",
      "78/78 [==============================] - 10s 125ms/step - loss: 6.6226e-04 - mse: 6.6226e-04 - val_loss: 0.0033 - val_mse: 0.0033\n",
      "Epoch 6/1000\n",
      "78/78 [==============================] - 10s 127ms/step - loss: 6.6453e-04 - mse: 6.6453e-04 - val_loss: 0.0034 - val_mse: 0.0034\n",
      "Epoch 7/1000\n",
      "78/78 [==============================] - 10s 124ms/step - loss: 6.6747e-04 - mse: 6.6747e-04 - val_loss: 0.0034 - val_mse: 0.0034\n",
      "Epoch 8/1000\n",
      "78/78 [==============================] - 10s 126ms/step - loss: 6.7374e-04 - mse: 6.7374e-04 - val_loss: 0.0034 - val_mse: 0.0034\n",
      "Epoch 9/1000\n",
      "78/78 [==============================] - 10s 125ms/step - loss: 6.7595e-04 - mse: 6.7595e-04 - val_loss: 0.0034 - val_mse: 0.0034\n",
      "Epoch 10/1000\n",
      "78/78 [==============================] - 10s 131ms/step - loss: 6.7468e-04 - mse: 6.7468e-04 - val_loss: 0.0033 - val_mse: 0.0033\n",
      "Epoch 11/1000\n",
      "77/78 [============================>.] - ETA: 0s - loss: 6.8094e-04 - mse: 6.8094e-04\n",
      "Epoch 00011: ReduceLROnPlateau reducing learning rate to 1.0240001069306004e-10.\n",
      "78/78 [==============================] - 10s 125ms/step - loss: 6.8176e-04 - mse: 6.8176e-04 - val_loss: 0.0034 - val_mse: 0.0034\n",
      "Epoch 12/1000\n",
      "78/78 [==============================] - 10s 127ms/step - loss: 6.7641e-04 - mse: 6.7641e-04 - val_loss: 0.0034 - val_mse: 0.0034\n",
      "Epoch 13/1000\n",
      "78/78 [==============================] - 10s 125ms/step - loss: 6.7684e-04 - mse: 6.7684e-04 - val_loss: 0.0034 - val_mse: 0.0034\n",
      "Epoch 14/1000\n",
      "78/78 [==============================] - 10s 125ms/step - loss: 6.6885e-04 - mse: 6.6885e-04 - val_loss: 0.0032 - val_mse: 0.0032\n",
      "Epoch 15/1000\n",
      "78/78 [==============================] - 10s 125ms/step - loss: 6.6255e-04 - mse: 6.6255e-04 - val_loss: 0.0033 - val_mse: 0.0033\n",
      "Epoch 16/1000\n",
      "78/78 [==============================] - 10s 128ms/step - loss: 6.6379e-04 - mse: 6.6379e-04 - val_loss: 0.0034 - val_mse: 0.0034\n",
      "Epoch 17/1000\n",
      "78/78 [==============================] - 10s 124ms/step - loss: 6.5841e-04 - mse: 6.5841e-04 - val_loss: 0.0034 - val_mse: 0.0034\n",
      "Epoch 18/1000\n",
      "78/78 [==============================] - 10s 124ms/step - loss: 6.7660e-04 - mse: 6.7660e-04 - val_loss: 0.0033 - val_mse: 0.0033\n",
      "Epoch 19/1000\n",
      "78/78 [==============================] - 10s 123ms/step - loss: 6.6495e-04 - mse: 6.6495e-04 - val_loss: 0.0033 - val_mse: 0.0033\n",
      "Epoch 20/1000\n",
      "78/78 [==============================] - 10s 125ms/step - loss: 6.6587e-04 - mse: 6.6587e-04 - val_loss: 0.0033 - val_mse: 0.0033\n",
      "Epoch 21/1000\n",
      "78/78 [==============================] - 10s 126ms/step - loss: 6.6704e-04 - mse: 6.6704e-04 - val_loss: 0.0034 - val_mse: 0.0034\n",
      "Epoch 22/1000\n",
      "78/78 [==============================] - 10s 125ms/step - loss: 6.6429e-04 - mse: 6.6429e-04 - val_loss: 0.0034 - val_mse: 0.0034\n",
      "Epoch 23/1000\n",
      "78/78 [==============================] - 10s 125ms/step - loss: 6.7644e-04 - mse: 6.7644e-04 - val_loss: 0.0034 - val_mse: 0.0034\n",
      "Epoch 24/1000\n",
      "78/78 [==============================] - 10s 126ms/step - loss: 6.6632e-04 - mse: 6.6632e-04 - val_loss: 0.0033 - val_mse: 0.0033\n",
      "Epoch 25/1000\n",
      "78/78 [==============================] - 10s 126ms/step - loss: 6.7610e-04 - mse: 6.7610e-04 - val_loss: 0.0032 - val_mse: 0.0032\n",
      "Epoch 26/1000\n",
      "78/78 [==============================] - 10s 124ms/step - loss: 6.6345e-04 - mse: 6.6345e-04 - val_loss: 0.0034 - val_mse: 0.0034\n",
      "Epoch 27/1000\n",
      "78/78 [==============================] - 10s 124ms/step - loss: 6.9768e-04 - mse: 6.9768e-04 - val_loss: 0.0034 - val_mse: 0.0034\n",
      "Epoch 28/1000\n",
      "78/78 [==============================] - 10s 127ms/step - loss: 6.8362e-04 - mse: 6.8362e-04 - val_loss: 0.0033 - val_mse: 0.0033\n",
      "Epoch 29/1000\n",
      "78/78 [==============================] - 10s 125ms/step - loss: 6.7543e-04 - mse: 6.7543e-04 - val_loss: 0.0033 - val_mse: 0.0033\n",
      "Epoch 30/1000\n",
      "77/78 [============================>.] - ETA: 0s - loss: 6.7227e-04 - mse: 6.7227e-04\n",
      "Epoch 00030: ReduceLROnPlateau reducing learning rate to 2.0480002416167767e-11.\n",
      "78/78 [==============================] - 10s 124ms/step - loss: 6.7251e-04 - mse: 6.7251e-04 - val_loss: 0.0033 - val_mse: 0.0033\n",
      "Epoch 31/1000\n",
      "78/78 [==============================] - 10s 125ms/step - loss: 6.6639e-04 - mse: 6.6639e-04 - val_loss: 0.0033 - val_mse: 0.0033\n",
      "Epoch 32/1000\n",
      "78/78 [==============================] - 10s 124ms/step - loss: 6.5562e-04 - mse: 6.5562e-04 - val_loss: 0.0034 - val_mse: 0.0034\n",
      "Epoch 33/1000\n",
      "77/78 [============================>.] - ETA: 0s - loss: 6.8551e-04 - mse: 6.8551e-04Restoring model weights from the end of the best epoch.\n",
      "78/78 [==============================] - 10s 125ms/step - loss: 6.8590e-04 - mse: 6.8590e-04 - val_loss: 0.0033 - val_mse: 0.0033\n",
      "Epoch 00033: early stopping\n",
      "Done.\n",
      "Val_loss: 3.1027e-03\n"
     ]
    }
   ],
   "source": [
    "n_epochs=1000\n",
    "batch_size=6\n",
    "lr=1e-3\n",
    "reg=0.001\n",
    "\n",
    "# model = light_param_net(X.shape[1], reg=reg, learning_rate=lr)\n",
    "# model = flexi_net(input_vector_size=X.shape[1], output_size=y[0,:,:,0].shape, reg=reg, learning_rate=lr)\n",
    "# model.load_weights(str(Path(\"./weights\", r_name+'.h5')))#'initial_weights_300foils_04122020.h5')))\n",
    "\n",
    "# data generators\n",
    "train_generator = BatchGenerator(X, y, train_indices, batch_size=batch_size, Xdim=X[0].shape, ydim=y[0].shape)\n",
    "val_generator   = BatchGenerator(X, y, val_indices, batch_size=batch_size, Xdim=X[0].shape, ydim=y[0].shape)\n",
    "test_generator  = BatchGenerator(X, y, test_indices, batch_size=1, Xdim=X[0].shape, ydim=y[0].shape, shuffle=False)\n",
    "\n",
    "# callbacks\n",
    "early_stop = EarlyStopping(monitor='loss', patience=30, restore_best_weights=True, verbose=1)\n",
    "lr_reduce  = ReduceLROnPlateau(monitor='loss', min_lr=0, cooldown=10, factor=0.2, patience=10, verbose=1, mode='min')\n",
    "# lr_reduce = CosineLR(min_lr=1e-12, max_lr=lr, steps_per_epoch=np.ceil(len(train_indices)/batch_size), lr_decay=0.9)\n",
    "# m_save = ModelCheckpoint(str(Path(results_path, 'weights', 'temp_weights.h5')), monitor='val_mse', \n",
    "#                          verbose=0, save_best_only=True, save_weights_only=True, mode='min', period=1)\n",
    "\n",
    "# train model\n",
    "history = model.fit_generator(generator=train_generator, validation_data=val_generator, \n",
    "                             epochs=n_epochs, callbacks=[early_stop, lr_reduce],#, m_save],                              \n",
    "                             verbose=1, workers=1, use_multiprocessing=False)\n",
    "\n",
    "# save history and weights\n",
    "# r_name = (str(datetime.now())[:16]).replace(':','-')\n",
    "# unet.save_weights(str(Path(results_path,'weights', r_name+'.h5')))\n",
    "# save_pkl(history.history, Path(results_path,'weights', r_name+'.pkl'))\n",
    "\n",
    "print('Done.')\n",
    "print(\"Val_loss: %2.4e\" % np.min(history.history['val_loss']))"
   ]
  },
  {
   "cell_type": "markdown",
   "metadata": {},
   "source": [
    "### Batch size vs val_loss\n",
    "\n",
    "- 1: 8.7665e-03\n",
    "- 2: 5.2009e-03\n",
    "- 3: 4.5101e-03\n",
    "- 4: 4.3951e-03\n",
    "- 5: 4.3537e-03\n",
    "- 6: 3.2506e-03 good\n",
    "- 7: 3.6632e-03\n",
    "- 8: 3.2238e-03 good\n",
    "- 10: 3.2581e-03 хуже 12\n",
    "- 12: 6.9975e-03 хорошая картинка\n",
    "- 13:\n",
    "- 14: 2.9042e-03 тоже хорошая\n",
    "- 16: 4.9058e-03\n",
    "- 18: 3.0024e-03\n",
    "- 24: 3.0348e-03 так себе\n",
    "- 32: 2.4988e-03\n",
    "- 64: 2.7656e-03\n",
    "- 128: OOM\n",
    "- 256: OOM"
   ]
  },
  {
   "cell_type": "code",
   "execution_count": 46,
   "metadata": {},
   "outputs": [],
   "source": [
    "# save history and weights\n",
    "from datetime import datetime\n",
    "r_name = ('train v4 bs'+str(batch_size)+' '+str(datetime.now())[:16]).replace(':','-')\n",
    "model.save_weights(str(Path(weights_path, r_name+'.h5')))\n",
    "save_pkl(history.history, Path(weights_path, r_name+'.pkl'))"
   ]
  },
  {
   "cell_type": "code",
   "execution_count": 9,
   "metadata": {},
   "outputs": [
    {
     "name": "stdout",
     "output_type": "stream",
     "text": [
      "Light parametrization net output shape: (None, 512, 512, 1)\n"
     ]
    }
   ],
   "source": [
    "test_generator  = BatchGenerator(X, y, test_indices, batch_size=1, Xdim=X[0].shape, ydim=y[0].shape, shuffle=False)\n",
    "model = light_param_net(X.shape[1], reg=1, learning_rate=1e-5)\n",
    "model.load_weights(str(Path(\"./weights\", '2020-12-26 10-56.h5')))"
   ]
  },
  {
   "cell_type": "code",
   "execution_count": 15,
   "metadata": {},
   "outputs": [],
   "source": [
    "# model.save(Path(\"./weights\", '512x512.h5'),include_optimizer=True)"
   ]
  },
  {
   "cell_type": "code",
   "execution_count": 73,
   "metadata": {
    "scrolled": false
   },
   "outputs": [
    {
     "data": {
      "text/plain": [
       "<matplotlib.image.AxesImage at 0x1fbb1905588>"
      ]
     },
     "execution_count": 73,
     "metadata": {},
     "output_type": "execute_result"
    },
    {
     "data": {
      "image/png": "[encoded data removed]",
      "text/plain": [
       "<Figure size 864x864 with 1 Axes>"
      ]
     },
     "metadata": {
      "needs_background": "light"
     },
     "output_type": "display_data"
    },
    {
     "data": {
      "image/png": "[encoded data removed]",
      "text/plain": [
       "<Figure size 864x864 with 1 Axes>"
      ]
     },
     "metadata": {
      "needs_background": "light"
     },
     "output_type": "display_data"
    }
   ],
   "source": [
    "X_test, y_test = test_generator[10]\n",
    "X_test = np.expand_dims(X_test[0], 0)\n",
    "y_test = np.expand_dims(y_test[0], 0)\n",
    "\n",
    "y_pred = model.predict(X_test)\n",
    "# plt.figure(figsize=(12,12))\n",
    "# plt.matshow(y_test[0,:,:,0],0)\n",
    "# plt.figure(figsize=(12,12))\n",
    "# plt.matshow(y_test[0,:,:,0],0)\n",
    "plt.figure(figsize=(12,12))\n",
    "plt.matshow((np.round(y_pred[0,:,:,0])-y_test[0,:,:,0]),0)\n",
    "plt.figure(figsize=(12,12))\n",
    "\n",
    "y_pred[0,:,:,0][y_pred[0,:,:,0]>0.15]=1\n",
    "y_pred[0,:,:,0][y_pred[0,:,:,0]<=0.15]=0\n",
    "\n",
    "plt.matshow(y_pred[0,:,:,0],0)"
   ]
  },
  {
   "cell_type": "code",
   "execution_count": null,
   "metadata": {},
   "outputs": [],
   "source": [
    "raise Exception"
   ]
  },
  {
   "cell_type": "code",
   "execution_count": 11,
   "metadata": {},
   "outputs": [],
   "source": [
    "        "
   ]
  },
  {
   "cell_type": "code",
   "execution_count": 12,
   "metadata": {},
   "outputs": [
    {
     "data": {
      "text/plain": [
       "<matplotlib.image.AxesImage at 0x14d5d818a48>"
      ]
     },
     "execution_count": 12,
     "metadata": {},
     "output_type": "execute_result"
    },
    {
     "data": {
      "image/png": "[encoded data removed]",
      "text/plain": [
       "<Figure size 1152x432 with 1 Axes>"
      ]
     },
     "metadata": {
      "needs_background": "light"
     },
     "output_type": "display_data"
    }
   ],
   "source": [
    "y = np.round(y_pred)[0, :, :, 0]\n",
    "plt.figure(figsize=(16,6))\n",
    "plt.matshow(y,0)"
   ]
  },
  {
   "cell_type": "code",
   "execution_count": 13,
   "metadata": {},
   "outputs": [
    {
     "data": {
      "text/plain": [
       "(22, 257, 486)"
      ]
     },
     "execution_count": 13,
     "metadata": {},
     "output_type": "execute_result"
    }
   ],
   "source": [
    "# ищем координаты\n",
    "\n",
    "# сначала определим координаты начала и конца оси профиля\n",
    "\n",
    "for x_nose in range(y.shape[1]):\n",
    "    res = find_first_and_last_1_position(y[:, x_nose])\n",
    "    if res!=-1:\n",
    "        y_nose_top, y_nose_bot = res\n",
    "        break\n",
    "        \n",
    "for x_tail in range(y.shape[1]-1,0,-1):\n",
    "    res = find_first_and_last_1_position(y[:, x_tail])\n",
    "    if res!=-1:\n",
    "        y_tail_top, y_tail_bot = res\n",
    "        break\n",
    "\n",
    "if y_nose_top!=y_nose_bot: # ставим точку в середине носика, пригодится для красивой аппроксимации\n",
    "    y_nose = int(np.average((y_nose_top, y_nose_bot)))\n",
    "    y[y_nose,x_nose-1]=1\n",
    "    x_nose-=1\n",
    "\n",
    "if y_tail_top!=y_tail_bot: # а на хвостике не ставим и вообще хз чё делаем - к Димке\n",
    "    pass\n",
    "#     y_tail = int(np.average((y_tail_top, y_tail_bot)))\n",
    "# else:\n",
    "#     y_tail = y_tail_top\n",
    "    \n",
    "x_nose, y_nose, x_tail"
   ]
  },
  {
   "cell_type": "code",
   "execution_count": 14,
   "metadata": {},
   "outputs": [
    {
     "data": {
      "text/plain": [
       "<matplotlib.image.AxesImage at 0x14d5d881a08>"
      ]
     },
     "execution_count": 14,
     "metadata": {},
     "output_type": "execute_result"
    },
    {
     "data": {
      "image/png": "[encoded data removed]",
      "text/plain": [
       "<Figure size 1728x576 with 1 Axes>"
      ]
     },
     "metadata": {
      "needs_background": "light"
     },
     "output_type": "display_data"
    }
   ],
   "source": [
    "\n",
    "plt.figure(figsize=(24,8))\n",
    "plt.matshow(y[:],0)"
   ]
  },
  {
   "cell_type": "code",
   "execution_count": 15,
   "metadata": {},
   "outputs": [],
   "source": [
    "foil_x_top = (np.arange(y.shape[1])).tolist(); foil_x_top.reverse()\n",
    "foil_x_bot = foil_x_top.copy() #foil_x[:-1]; x2.reverse() ; foil_x.extend(x2)"
   ]
  },
  {
   "cell_type": "code",
   "execution_count": 16,
   "metadata": {},
   "outputs": [],
   "source": [
    "foil_y_top=[]\n",
    "foil_y_bot=[]\n",
    "for x in foil_x_top:\n",
    "    if find_first_and_last_1_position(y[:, x])==-1: raise Exception\n",
    "    y_t, y_b = find_first_and_last_1_position(y[:, x])\n",
    "    foil_y_top.append(y_nose - y_t)\n",
    "    foil_y_bot.append(y_nose - y_b)\n",
    "foil_x_bot = foil_x_bot[:-1]\n",
    "foil_x_bot.reverse()\n",
    "foil_y_bot = foil_y_bot[:-1]\n",
    "foil_y_bot.reverse()\n",
    "foil_x_top.extend(foil_x_bot)\n",
    "foil_y_top.extend(foil_y_bot)\n",
    "foil_x = np.array(foil_x_top)/(y.shape[1]-1)\n",
    "foil_y = np.array(foil_y_top)/(y.shape[1]-1)\n",
    "foil_x.shape, foil_y.shape"
   ]
  },
  {
   "cell_type": "code",
   "execution_count": 19,
   "metadata": {},
   "outputs": [
    {
     "data": {
      "image/png": "[encoded data removed]",
      "text/plain": [
       "<Figure size 864x216 with 1 Axes>"
      ]
     },
     "metadata": {
      "needs_background": "light"
     },
     "output_type": "display_data"
    }
   ],
   "source": [
    "fig = plt.figure(figsize=(12,3),  frameon=False)\n",
    "canvas = FigureCanvasAgg(fig)\n",
    "ax = fig.add_axes([0.,0.,1.,1.])\n",
    "ax.fill(foil_x, foil_y, 'black')\n",
    "ax.axis('equal');\n",
    "ax.axis('off');\n",
    "s, (width, height) = canvas.print_to_buffer()"
   ]
  },
  {
   "cell_type": "code",
   "execution_count": 28,
   "metadata": {},
   "outputs": [],
   "source": [
    "f_x, f_y = interpolate_airfoil(foil_x, foil_y, 256)"
   ]
  },
  {
   "cell_type": "code",
   "execution_count": 29,
   "metadata": {},
   "outputs": [
    {
     "ename": "Exception",
     "evalue": "",
     "output_type": "error",
     "traceback": [
      "\u001b[1;31m---------------------------------------------------------------------------\u001b[0m",
      "\u001b[1;31mException\u001b[0m                                 Traceback (most recent call last)",
      "\u001b[1;32m<ipython-input-29-3bacc078521e>\u001b[0m in \u001b[0;36m<module>\u001b[1;34m\u001b[0m\n\u001b[0;32m     12\u001b[0m     \u001b[0mxf\u001b[0m\u001b[1;33m.\u001b[0m\u001b[0mRe\u001b[0m \u001b[1;33m=\u001b[0m \u001b[0mRe\u001b[0m\u001b[1;33m[\u001b[0m\u001b[0mnum\u001b[0m\u001b[1;33m]\u001b[0m\u001b[1;33m\u001b[0m\u001b[1;33m\u001b[0m\u001b[0m\n\u001b[0;32m     13\u001b[0m     \u001b[0ma\u001b[0m\u001b[1;33m,\u001b[0m \u001b[0mcl\u001b[0m\u001b[1;33m,\u001b[0m \u001b[0mcd\u001b[0m\u001b[1;33m,\u001b[0m \u001b[0mcm\u001b[0m\u001b[1;33m,\u001b[0m \u001b[0mcp\u001b[0m \u001b[1;33m=\u001b[0m \u001b[0mxf\u001b[0m\u001b[1;33m.\u001b[0m\u001b[0maseq\u001b[0m\u001b[1;33m(\u001b[0m\u001b[0malfa_min\u001b[0m\u001b[1;33m,\u001b[0m \u001b[0malfa_max\u001b[0m\u001b[1;33m,\u001b[0m \u001b[0malfa_step\u001b[0m\u001b[1;33m)\u001b[0m\u001b[1;33m\u001b[0m\u001b[1;33m\u001b[0m\u001b[0m\n\u001b[1;32m---> 14\u001b[1;33m     \u001b[1;32mraise\u001b[0m \u001b[0mException\u001b[0m\u001b[1;33m\u001b[0m\u001b[1;33m\u001b[0m\u001b[0m\n\u001b[0m",
      "\u001b[1;31mException\u001b[0m: "
     ]
    }
   ],
   "source": [
    "# set list of Re's\n",
    "Re = np.linspace(re_min, re_max, n_points_Re).astype(int)\n",
    "# get list of alfas and alfa step\n",
    "alfa_step, alfas = get_alfa_step(alfa_min, alfa_max, n_points_alfa)\n",
    "\n",
    "current_foil = Airfoil(f_x, f_y)\n",
    "xf = XFoil()\n",
    "xf.airfoil = current_foil\n",
    "xf.max_iter = xfoil_max_iterations\n",
    "for num in range(16):\n",
    "\n",
    "    xf.Re = Re[num]        \n",
    "    a, cl, cd, cm, cp = xf.aseq(alfa_min, alfa_max, alfa_step)\n",
    "    raise Exception"
   ]
  },
  {
   "cell_type": "code",
   "execution_count": 31,
   "metadata": {},
   "outputs": [
    {
     "data": {
      "text/plain": [
       "array([0.02837718, 0.02839214,        nan, 0.02836622, 0.02817133,\n",
       "       0.02833435, 0.02826537, 0.02814429,        nan, 0.02774858,\n",
       "       0.02756903, 0.02694843, 0.02696838, 0.02691632, 0.02691655,\n",
       "       0.02713087, 0.02756391, 0.02802133, 0.02832558, 0.02898849,\n",
       "       0.02910685, 0.03026072, 0.0305083 , 0.03105625, 0.03270565,\n",
       "       0.0311233 , 0.0314392 , 0.03160494, 0.03249761, 0.03365809,\n",
       "       0.03503241, 0.03579408])"
      ]
     },
     "execution_count": 31,
     "metadata": {},
     "output_type": "execute_result"
    }
   ],
   "source": [
    "cd"
   ]
  },
  {
   "cell_type": "code",
   "execution_count": 4,
   "metadata": {},
   "outputs": [
    {
     "ename": "OSError",
     "evalue": "[WinError 193] %1 is not a valid Win32 application",
     "output_type": "error",
     "traceback": [
      "\u001b[1;31m---------------------------------------------------------------------------\u001b[0m",
      "\u001b[1;31mOSError\u001b[0m                                   Traceback (most recent call last)",
      "\u001b[1;32m<ipython-input-4-6468ceae391a>\u001b[0m in \u001b[0;36m<module>\u001b[1;34m()\u001b[0m\n\u001b[1;32m----> 1\u001b[1;33m \u001b[0mxf\u001b[0m \u001b[1;33m=\u001b[0m \u001b[0mXFoil\u001b[0m\u001b[1;33m(\u001b[0m\u001b[1;33m)\u001b[0m\u001b[1;33m\u001b[0m\u001b[1;33m\u001b[0m\u001b[0m\n\u001b[0m",
      "\u001b[1;32mC:\\Users\\Oleg\\miniconda3\\envs\\tf200\\lib\\site-packages\\xfoil\\xfoil.py\u001b[0m in \u001b[0;36m__init__\u001b[1;34m(self)\u001b[0m\n\u001b[0;32m     54\u001b[0m         \u001b[0mself\u001b[0m\u001b[1;33m.\u001b[0m\u001b[0m_lib_path\u001b[0m \u001b[1;33m=\u001b[0m \u001b[0mtmp\u001b[0m\u001b[1;33m.\u001b[0m\u001b[0mname\u001b[0m\u001b[1;33m\u001b[0m\u001b[1;33m\u001b[0m\u001b[0m\n\u001b[0;32m     55\u001b[0m         \u001b[0mcopy2\u001b[0m\u001b[1;33m(\u001b[0m\u001b[0mlib_path\u001b[0m\u001b[1;33m,\u001b[0m \u001b[0mself\u001b[0m\u001b[1;33m.\u001b[0m\u001b[0m_lib_path\u001b[0m\u001b[1;33m)\u001b[0m\u001b[1;33m\u001b[0m\u001b[1;33m\u001b[0m\u001b[0m\n\u001b[1;32m---> 56\u001b[1;33m         \u001b[0mself\u001b[0m\u001b[1;33m.\u001b[0m\u001b[0m_lib\u001b[0m \u001b[1;33m=\u001b[0m \u001b[0mcdll\u001b[0m\u001b[1;33m.\u001b[0m\u001b[0mLoadLibrary\u001b[0m\u001b[1;33m(\u001b[0m\u001b[0mself\u001b[0m\u001b[1;33m.\u001b[0m\u001b[0m_lib_path\u001b[0m\u001b[1;33m)\u001b[0m\u001b[1;33m\u001b[0m\u001b[1;33m\u001b[0m\u001b[0m\n\u001b[0m\u001b[0;32m     57\u001b[0m         \u001b[0mself\u001b[0m\u001b[1;33m.\u001b[0m\u001b[0m_lib\u001b[0m\u001b[1;33m.\u001b[0m\u001b[0minit\u001b[0m\u001b[1;33m(\u001b[0m\u001b[1;33m)\u001b[0m\u001b[1;33m\u001b[0m\u001b[1;33m\u001b[0m\u001b[0m\n\u001b[0;32m     58\u001b[0m         \u001b[0mself\u001b[0m\u001b[1;33m.\u001b[0m\u001b[0m_airfoil\u001b[0m \u001b[1;33m=\u001b[0m \u001b[1;32mNone\u001b[0m\u001b[1;33m\u001b[0m\u001b[1;33m\u001b[0m\u001b[0m\n",
      "\u001b[1;32mC:\\Users\\Oleg\\miniconda3\\envs\\tf200\\lib\\ctypes\\__init__.py\u001b[0m in \u001b[0;36mLoadLibrary\u001b[1;34m(self, name)\u001b[0m\n\u001b[0;32m    424\u001b[0m \u001b[1;33m\u001b[0m\u001b[0m\n\u001b[0;32m    425\u001b[0m     \u001b[1;32mdef\u001b[0m \u001b[0mLoadLibrary\u001b[0m\u001b[1;33m(\u001b[0m\u001b[0mself\u001b[0m\u001b[1;33m,\u001b[0m \u001b[0mname\u001b[0m\u001b[1;33m)\u001b[0m\u001b[1;33m:\u001b[0m\u001b[1;33m\u001b[0m\u001b[1;33m\u001b[0m\u001b[0m\n\u001b[1;32m--> 426\u001b[1;33m         \u001b[1;32mreturn\u001b[0m \u001b[0mself\u001b[0m\u001b[1;33m.\u001b[0m\u001b[0m_dlltype\u001b[0m\u001b[1;33m(\u001b[0m\u001b[0mname\u001b[0m\u001b[1;33m)\u001b[0m\u001b[1;33m\u001b[0m\u001b[1;33m\u001b[0m\u001b[0m\n\u001b[0m\u001b[0;32m    427\u001b[0m \u001b[1;33m\u001b[0m\u001b[0m\n\u001b[0;32m    428\u001b[0m \u001b[0mcdll\u001b[0m \u001b[1;33m=\u001b[0m \u001b[0mLibraryLoader\u001b[0m\u001b[1;33m(\u001b[0m\u001b[0mCDLL\u001b[0m\u001b[1;33m)\u001b[0m\u001b[1;33m\u001b[0m\u001b[1;33m\u001b[0m\u001b[0m\n",
      "\u001b[1;32mC:\\Users\\Oleg\\miniconda3\\envs\\tf200\\lib\\ctypes\\__init__.py\u001b[0m in \u001b[0;36m__init__\u001b[1;34m(self, name, mode, handle, use_errno, use_last_error)\u001b[0m\n\u001b[0;32m    346\u001b[0m \u001b[1;33m\u001b[0m\u001b[0m\n\u001b[0;32m    347\u001b[0m         \u001b[1;32mif\u001b[0m \u001b[0mhandle\u001b[0m \u001b[1;32mis\u001b[0m \u001b[1;32mNone\u001b[0m\u001b[1;33m:\u001b[0m\u001b[1;33m\u001b[0m\u001b[1;33m\u001b[0m\u001b[0m\n\u001b[1;32m--> 348\u001b[1;33m             \u001b[0mself\u001b[0m\u001b[1;33m.\u001b[0m\u001b[0m_handle\u001b[0m \u001b[1;33m=\u001b[0m \u001b[0m_dlopen\u001b[0m\u001b[1;33m(\u001b[0m\u001b[0mself\u001b[0m\u001b[1;33m.\u001b[0m\u001b[0m_name\u001b[0m\u001b[1;33m,\u001b[0m \u001b[0mmode\u001b[0m\u001b[1;33m)\u001b[0m\u001b[1;33m\u001b[0m\u001b[1;33m\u001b[0m\u001b[0m\n\u001b[0m\u001b[0;32m    349\u001b[0m         \u001b[1;32melse\u001b[0m\u001b[1;33m:\u001b[0m\u001b[1;33m\u001b[0m\u001b[1;33m\u001b[0m\u001b[0m\n\u001b[0;32m    350\u001b[0m             \u001b[0mself\u001b[0m\u001b[1;33m.\u001b[0m\u001b[0m_handle\u001b[0m \u001b[1;33m=\u001b[0m \u001b[0mhandle\u001b[0m\u001b[1;33m\u001b[0m\u001b[1;33m\u001b[0m\u001b[0m\n",
      "\u001b[1;31mOSError\u001b[0m: [WinError 193] %1 is not a valid Win32 application"
     ]
    }
   ],
   "source": [
    "xf = XFoil()"
   ]
  },
  {
   "cell_type": "code",
   "execution_count": 23,
   "metadata": {},
   "outputs": [],
   "source": [
    "import config\n"
   ]
  },
  {
   "cell_type": "code",
   "execution_count": 24,
   "metadata": {},
   "outputs": [
    {
     "ename": "AttributeError",
     "evalue": "module 'config' has no attribute 'Re'",
     "output_type": "error",
     "traceback": [
      "\u001b[1;31m---------------------------------------------------------------------------\u001b[0m",
      "\u001b[1;31mAttributeError\u001b[0m                            Traceback (most recent call last)",
      "\u001b[1;32m<ipython-input-24-2e99ee927d8d>\u001b[0m in \u001b[0;36m<module>\u001b[1;34m\u001b[0m\n\u001b[1;32m----> 1\u001b[1;33m \u001b[0mconfig\u001b[0m\u001b[1;33m.\u001b[0m\u001b[0mRe\u001b[0m\u001b[1;33m\u001b[0m\u001b[1;33m\u001b[0m\u001b[0m\n\u001b[0m",
      "\u001b[1;31mAttributeError\u001b[0m: module 'config' has no attribute 'Re'"
     ]
    }
   ],
   "source": [
    "config.Re"
   ]
  },
  {
   "cell_type": "code",
   "execution_count": null,
   "metadata": {},
   "outputs": [],
   "source": []
  },
  {
   "cell_type": "code",
   "execution_count": null,
   "metadata": {},
   "outputs": [],
   "source": []
  },
  {
   "cell_type": "code",
   "execution_count": 255,
   "metadata": {},
   "outputs": [
    {
     "data": {
      "text/plain": [
       "array([ 1.00000000e+00,  9.78822842e-01,  9.56628964e-01,  9.34466611e-01,\n",
       "        9.11833094e-01,  8.89197903e-01,  8.65163451e-01,  8.43471751e-01,\n",
       "        8.20380303e-01,  7.97399321e-01,  7.73751246e-01,  7.51108000e-01,\n",
       "        7.28928454e-01,  7.04979917e-01,  6.81836347e-01,  6.57839994e-01,\n",
       "        6.34746949e-01,  6.11204402e-01,  5.87628664e-01,  5.64092901e-01,\n",
       "        5.40558285e-01,  5.16556265e-01,  4.92554244e-01,  4.69463582e-01,\n",
       "        4.45473249e-01,  4.21003857e-01,  3.96546143e-01,  3.73927724e-01,\n",
       "        3.50364841e-01,  3.27732220e-01,  3.03727829e-01,  2.80181480e-01,\n",
       "        2.56635184e-01,  2.33090633e-01,  2.09540389e-01,  1.85995122e-01,\n",
       "        1.62905375e-01,  1.40270285e-01,  1.18092448e-01,  9.81206170e-02,\n",
       "        7.50923075e-02,  5.48236153e-02,  3.34411074e-02,  1.24792319e-02,\n",
       "       -9.65488169e-04, -3.81271181e-03, -1.58921242e-03,  5.41915016e-03,\n",
       "        1.69265161e-02,  3.26470255e-02,  5.22948185e-02,  7.55840352e-02,\n",
       "        1.02228816e-01,  1.31943301e-01,  1.64441630e-01,  1.99437943e-01,\n",
       "        2.36646381e-01,  2.75781083e-01,  3.16556190e-01,  3.58685842e-01,\n",
       "        4.01884180e-01,  4.45865342e-01,  4.90343470e-01,  5.35032703e-01,\n",
       "        5.79647182e-01,  6.23901047e-01,  6.67508438e-01,  7.10183494e-01,\n",
       "        7.51640357e-01,  7.91593167e-01,  8.29756063e-01,  8.65843185e-01,\n",
       "        8.99568675e-01,  9.30646671e-01,  9.58791315e-01,  9.83716745e-01,\n",
       "        1.00513710e+00,  1.02276653e+00,  1.03631916e+00,  1.04550914e+00,\n",
       "        1.05005061e+00,  1.04965771e+00,  1.04404458e+00,  1.03292535e+00,\n",
       "        1.01601417e+00,  9.93243458e-01,  9.69241359e-01,  9.46150774e-01,\n",
       "        9.22583133e-01,  8.98601703e-01,  8.75502084e-01,  8.53769356e-01,\n",
       "        8.29330426e-01,  8.04872724e-01,  7.80872381e-01,  7.56868679e-01,\n",
       "        7.32826767e-01,  7.08408954e-01,  6.83951162e-01,  6.59950788e-01,\n",
       "        6.36259158e-01,  6.11945075e-01,  5.88854523e-01,  5.65018320e-01,\n",
       "        5.41306159e-01,  5.17842460e-01,  4.95126773e-01,  4.72034176e-01,\n",
       "        4.49435491e-01,  4.26310584e-01,  4.02306511e-01,  3.78759369e-01,\n",
       "        3.54758147e-01,  3.30300445e-01,  3.06298432e-01,  2.81840720e-01,\n",
       "        2.57736249e-01,  2.33836675e-01,  2.09834121e-01,  1.85377486e-01,\n",
       "        1.62286249e-01,  1.37836300e-01,  1.15649301e-01,  9.16178541e-02,\n",
       "        6.90110856e-02,  4.50102371e-02,  2.19309051e-02,  1.10011001e-03])"
      ]
     },
     "execution_count": 255,
     "metadata": {},
     "output_type": "execute_result"
    }
   ],
   "source": [
    "f_x"
   ]
  },
  {
   "cell_type": "code",
   "execution_count": 225,
   "metadata": {},
   "outputs": [],
   "source": [
    "c = np.array([a,b]).T"
   ]
  },
  {
   "cell_type": "code",
   "execution_count": 227,
   "metadata": {},
   "outputs": [
    {
     "data": {
      "text/plain": [
       "array([[1, 4],\n",
       "       [2, 5],\n",
       "       [3, 6],\n",
       "       [4, 4]])"
      ]
     },
     "execution_count": 227,
     "metadata": {},
     "output_type": "execute_result"
    }
   ],
   "source": [
    "c.shape\n",
    "c"
   ]
  },
  {
   "cell_type": "code",
   "execution_count": 131,
   "metadata": {},
   "outputs": [
    {
     "data": {
      "text/plain": [
       "[3, 2, 1]"
      ]
     },
     "execution_count": 131,
     "metadata": {},
     "output_type": "execute_result"
    }
   ],
   "source": [
    "xo = x.copy()\n",
    "xo.reverse()\n",
    "xo"
   ]
  },
  {
   "cell_type": "code",
   "execution_count": 132,
   "metadata": {},
   "outputs": [],
   "source": [
    "x.extend(xo)"
   ]
  },
  {
   "cell_type": "code",
   "execution_count": 133,
   "metadata": {},
   "outputs": [
    {
     "data": {
      "text/plain": [
       "[1, 2, 3, 3, 2, 1]"
      ]
     },
     "execution_count": 133,
     "metadata": {},
     "output_type": "execute_result"
    }
   ],
   "source": [
    "x"
   ]
  },
  {
   "cell_type": "code",
   "execution_count": 113,
   "metadata": {},
   "outputs": [
    {
     "data": {
      "text/plain": [
       "[3, 2, 1]"
      ]
     },
     "execution_count": 113,
     "metadata": {},
     "output_type": "execute_result"
    }
   ],
   "source": [
    "x"
   ]
  },
  {
   "cell_type": "code",
   "execution_count": 60,
   "metadata": {},
   "outputs": [
    {
     "data": {
      "text/plain": [
       "(147,)"
      ]
     },
     "execution_count": 60,
     "metadata": {},
     "output_type": "execute_result"
    }
   ],
   "source": [
    "ind = np.unravel_index(np.argmax(y[:,49]), y[:,49].shape)\n",
    "ind"
   ]
  },
  {
   "cell_type": "code",
   "execution_count": 84,
   "metadata": {},
   "outputs": [
    {
     "data": {
      "text/plain": [
       "153"
      ]
     },
     "execution_count": 84,
     "metadata": {},
     "output_type": "execute_result"
    }
   ],
   "source": [
    "x"
   ]
  },
  {
   "cell_type": "code",
   "execution_count": 21,
   "metadata": {},
   "outputs": [],
   "source": [
    "xt = X_test.reshape(6,16,32)"
   ]
  },
  {
   "cell_type": "code",
   "execution_count": 23,
   "metadata": {},
   "outputs": [
    {
     "data": {
      "text/plain": [
       "array([-0.05936276, -0.01701933,  0.0171289 ,  0.0494599 ,  0.08075152,\n",
       "        0.111234  ,  0.14099106,  0.17000559,  0.19828717,  0.22578268,\n",
       "        0.25237799,  0.27791429,  0.30227628,  0.3253468 ,  0.35581368,\n",
       "        0.45017675,  0.52773142,  0.5996455 ,  0.66019589,  0.71231872,\n",
       "        0.74865282,  0.78221673,  0.81368822,  0.84336275,  0.87164384,\n",
       "        0.89902073,  0.92604083,  0.95123965,  0.97374296,  0.98991495,\n",
       "        1.00836194,  1.03475928])"
      ]
     },
     "execution_count": 23,
     "metadata": {},
     "output_type": "execute_result"
    }
   ],
   "source": [
    "xt[0,0,:] = [1]"
   ]
  }
 ],
 "metadata": {
  "kernelspec": {
   "display_name": "Python 3",
   "language": "python",
   "name": "python3"
  },
  "language_info": {
   "codemirror_mode": {
    "name": "ipython",
    "version": 3
   },
   "file_extension": ".py",
   "mimetype": "text/x-python",
   "name": "python",
   "nbconvert_exporter": "python",
   "pygments_lexer": "ipython3",
   "version": "3.7.4"
  }
 },
 "nbformat": 4,
 "nbformat_minor": 4
}
