{
 "cells": [
  {
   "cell_type": "code",
   "execution_count": 1,
   "metadata": {},
   "outputs": [],
   "source": [
    "import numpy as np\n",
    "import pandas as pd\n",
    "from pathlib import Path\n",
    "import matplotlib.pyplot as plt\n",
    "import time\n",
    "\n",
    "from datetime import datetime\n",
    "\n",
    "from xfoil import XFoil\n",
    "from xfoil.model import Airfoil\n",
    "\n",
    "from lib.utils import load_pkl, save_pkl\n",
    "from lib.preprocess_modules import *\n",
    "from lib.predict_modules import *\n",
    "from config import *\n",
    "\n",
    "from nets.nn import *"
   ]
  },
  {
   "cell_type": "code",
   "execution_count": 2,
   "metadata": {},
   "outputs": [
    {
     "name": "stdout",
     "output_type": "stream",
     "text": [
      "Light parametrization net output shape: (None, 512, 512, 1)\n"
     ]
    }
   ],
   "source": [
    "model = light_param_net(3072)\n",
    "model.load_weights(str(Path('./weights', 'train v4 bs12 2020-12-31 11-47.h5')))"
   ]
  },
  {
   "cell_type": "code",
   "execution_count": 3,
   "metadata": {},
   "outputs": [],
   "source": [
    "fname = \"e387 desired.xls\" "
   ]
  },
  {
   "cell_type": "code",
   "execution_count": 4,
   "metadata": {},
   "outputs": [
    {
     "data": {
      "text/html": [
       "<div>\n",
       "<style scoped>\n",
       "    .dataframe tbody tr th:only-of-type {\n",
       "        vertical-align: middle;\n",
       "    }\n",
       "\n",
       "    .dataframe tbody tr th {\n",
       "        vertical-align: top;\n",
       "    }\n",
       "\n",
       "    .dataframe thead th {\n",
       "        text-align: right;\n",
       "    }\n",
       "</style>\n",
       "<table border=\"1\" class=\"dataframe\">\n",
       "  <thead>\n",
       "    <tr style=\"text-align: right;\">\n",
       "      <th></th>\n",
       "      <th>Param</th>\n",
       "      <th>Re</th>\n",
       "      <th>S</th>\n",
       "      <th>d</th>\n",
       "      <th>-2.1</th>\n",
       "      <th>-1.78</th>\n",
       "      <th>-1.47</th>\n",
       "      <th>-1.15</th>\n",
       "      <th>-0.84</th>\n",
       "      <th>-0.52</th>\n",
       "      <th>...</th>\n",
       "      <th>4.84</th>\n",
       "      <th>5.16</th>\n",
       "      <th>5.48</th>\n",
       "      <th>5.79</th>\n",
       "      <th>6.11</th>\n",
       "      <th>6.42</th>\n",
       "      <th>6.74</th>\n",
       "      <th>7.05</th>\n",
       "      <th>7.37</th>\n",
       "      <th>7.68</th>\n",
       "    </tr>\n",
       "  </thead>\n",
       "  <tbody>\n",
       "    <tr>\n",
       "      <th>0</th>\n",
       "      <td>Cy</td>\n",
       "      <td>40000</td>\n",
       "      <td>0.08</td>\n",
       "      <td>0.05</td>\n",
       "      <td>-0.175271</td>\n",
       "      <td>-0.149215</td>\n",
       "      <td>-0.122368</td>\n",
       "      <td>-0.096956</td>\n",
       "      <td>-0.070861</td>\n",
       "      <td>-0.044806</td>\n",
       "      <td>...</td>\n",
       "      <td>0.494016</td>\n",
       "      <td>0.522079</td>\n",
       "      <td>0.547024</td>\n",
       "      <td>0.570193</td>\n",
       "      <td>0.614365</td>\n",
       "      <td>0.630143</td>\n",
       "      <td>0.666479</td>\n",
       "      <td>0.702953</td>\n",
       "      <td>0.737705</td>\n",
       "      <td>0.749133</td>\n",
       "    </tr>\n",
       "    <tr>\n",
       "      <th>1</th>\n",
       "      <td>Cy</td>\n",
       "      <td>50666</td>\n",
       "      <td>0.08</td>\n",
       "      <td>0.05</td>\n",
       "      <td>-0.126504</td>\n",
       "      <td>-0.073382</td>\n",
       "      <td>-0.033211</td>\n",
       "      <td>0.008268</td>\n",
       "      <td>0.055054</td>\n",
       "      <td>0.089171</td>\n",
       "      <td>...</td>\n",
       "      <td>0.603522</td>\n",
       "      <td>0.630642</td>\n",
       "      <td>0.657340</td>\n",
       "      <td>0.687416</td>\n",
       "      <td>0.730997</td>\n",
       "      <td>0.755593</td>\n",
       "      <td>0.782671</td>\n",
       "      <td>0.837690</td>\n",
       "      <td>0.974164</td>\n",
       "      <td>0.962597</td>\n",
       "    </tr>\n",
       "    <tr>\n",
       "      <th>2</th>\n",
       "      <td>Cy</td>\n",
       "      <td>61333</td>\n",
       "      <td>0.08</td>\n",
       "      <td>0.05</td>\n",
       "      <td>-0.016765</td>\n",
       "      <td>0.034532</td>\n",
       "      <td>0.067431</td>\n",
       "      <td>0.107558</td>\n",
       "      <td>0.152161</td>\n",
       "      <td>0.183288</td>\n",
       "      <td>...</td>\n",
       "      <td>0.707919</td>\n",
       "      <td>0.755507</td>\n",
       "      <td>0.806188</td>\n",
       "      <td>0.844763</td>\n",
       "      <td>0.990552</td>\n",
       "      <td>1.012872</td>\n",
       "      <td>1.004646</td>\n",
       "      <td>0.981187</td>\n",
       "      <td>0.976996</td>\n",
       "      <td>0.972574</td>\n",
       "    </tr>\n",
       "    <tr>\n",
       "      <th>3</th>\n",
       "      <td>Cy</td>\n",
       "      <td>72000</td>\n",
       "      <td>0.08</td>\n",
       "      <td>0.05</td>\n",
       "      <td>0.111640</td>\n",
       "      <td>0.181871</td>\n",
       "      <td>0.244588</td>\n",
       "      <td>0.330845</td>\n",
       "      <td>0.381140</td>\n",
       "      <td>0.463936</td>\n",
       "      <td>...</td>\n",
       "      <td>1.333391</td>\n",
       "      <td>1.389392</td>\n",
       "      <td>1.481975</td>\n",
       "      <td>1.603389</td>\n",
       "      <td>1.653134</td>\n",
       "      <td>1.667295</td>\n",
       "      <td>1.611005</td>\n",
       "      <td>1.623479</td>\n",
       "      <td>1.635125</td>\n",
       "      <td>1.637587</td>\n",
       "    </tr>\n",
       "    <tr>\n",
       "      <th>4</th>\n",
       "      <td>Cy</td>\n",
       "      <td>82666</td>\n",
       "      <td>0.08</td>\n",
       "      <td>0.05</td>\n",
       "      <td>0.250990</td>\n",
       "      <td>0.317135</td>\n",
       "      <td>0.382396</td>\n",
       "      <td>0.463928</td>\n",
       "      <td>0.520372</td>\n",
       "      <td>0.588009</td>\n",
       "      <td>...</td>\n",
       "      <td>1.552398</td>\n",
       "      <td>1.627355</td>\n",
       "      <td>1.714465</td>\n",
       "      <td>1.765231</td>\n",
       "      <td>1.801868</td>\n",
       "      <td>1.797575</td>\n",
       "      <td>1.770482</td>\n",
       "      <td>1.789920</td>\n",
       "      <td>1.801065</td>\n",
       "      <td>1.801897</td>\n",
       "    </tr>\n",
       "    <tr>\n",
       "      <th>...</th>\n",
       "      <td>...</td>\n",
       "      <td>...</td>\n",
       "      <td>...</td>\n",
       "      <td>...</td>\n",
       "      <td>...</td>\n",
       "      <td>...</td>\n",
       "      <td>...</td>\n",
       "      <td>...</td>\n",
       "      <td>...</td>\n",
       "      <td>...</td>\n",
       "      <td>...</td>\n",
       "      <td>...</td>\n",
       "      <td>...</td>\n",
       "      <td>...</td>\n",
       "      <td>...</td>\n",
       "      <td>...</td>\n",
       "      <td>...</td>\n",
       "      <td>...</td>\n",
       "      <td>...</td>\n",
       "      <td>...</td>\n",
       "      <td>...</td>\n",
       "    </tr>\n",
       "    <tr>\n",
       "      <th>59</th>\n",
       "      <td>Cp</td>\n",
       "      <td>157333</td>\n",
       "      <td>0.08</td>\n",
       "      <td>0.05</td>\n",
       "      <td>-1.095203</td>\n",
       "      <td>-0.961417</td>\n",
       "      <td>-0.883718</td>\n",
       "      <td>-0.797703</td>\n",
       "      <td>-0.708582</td>\n",
       "      <td>-0.616246</td>\n",
       "      <td>...</td>\n",
       "      <td>-1.432442</td>\n",
       "      <td>-1.658471</td>\n",
       "      <td>-1.967260</td>\n",
       "      <td>-2.151952</td>\n",
       "      <td>-2.229256</td>\n",
       "      <td>-2.400024</td>\n",
       "      <td>-2.578504</td>\n",
       "      <td>-2.752281</td>\n",
       "      <td>-2.895835</td>\n",
       "      <td>-2.987009</td>\n",
       "    </tr>\n",
       "    <tr>\n",
       "      <th>60</th>\n",
       "      <td>Cp</td>\n",
       "      <td>168000</td>\n",
       "      <td>0.08</td>\n",
       "      <td>0.05</td>\n",
       "      <td>-1.049246</td>\n",
       "      <td>-0.969676</td>\n",
       "      <td>-0.889326</td>\n",
       "      <td>-0.803220</td>\n",
       "      <td>-0.712517</td>\n",
       "      <td>-0.619784</td>\n",
       "      <td>...</td>\n",
       "      <td>-1.431457</td>\n",
       "      <td>-1.665568</td>\n",
       "      <td>-1.971450</td>\n",
       "      <td>-2.132275</td>\n",
       "      <td>-2.227237</td>\n",
       "      <td>-2.398644</td>\n",
       "      <td>-2.576588</td>\n",
       "      <td>-2.749870</td>\n",
       "      <td>-2.906410</td>\n",
       "      <td>-2.998260</td>\n",
       "    </tr>\n",
       "    <tr>\n",
       "      <th>61</th>\n",
       "      <td>Cp</td>\n",
       "      <td>178666</td>\n",
       "      <td>0.08</td>\n",
       "      <td>0.05</td>\n",
       "      <td>-1.044247</td>\n",
       "      <td>-0.975340</td>\n",
       "      <td>-0.894305</td>\n",
       "      <td>-0.807379</td>\n",
       "      <td>-0.716861</td>\n",
       "      <td>-0.623241</td>\n",
       "      <td>...</td>\n",
       "      <td>-1.431969</td>\n",
       "      <td>-1.672259</td>\n",
       "      <td>-1.973815</td>\n",
       "      <td>-2.114706</td>\n",
       "      <td>-2.225747</td>\n",
       "      <td>-2.402810</td>\n",
       "      <td>-2.576052</td>\n",
       "      <td>-2.743838</td>\n",
       "      <td>-2.913803</td>\n",
       "      <td>-3.004927</td>\n",
       "    </tr>\n",
       "    <tr>\n",
       "      <th>62</th>\n",
       "      <td>Cp</td>\n",
       "      <td>189333</td>\n",
       "      <td>0.08</td>\n",
       "      <td>0.05</td>\n",
       "      <td>-1.051441</td>\n",
       "      <td>-0.979565</td>\n",
       "      <td>-0.898479</td>\n",
       "      <td>-0.811864</td>\n",
       "      <td>-0.720704</td>\n",
       "      <td>-0.627215</td>\n",
       "      <td>...</td>\n",
       "      <td>-1.431100</td>\n",
       "      <td>-1.677790</td>\n",
       "      <td>-1.974426</td>\n",
       "      <td>-2.099223</td>\n",
       "      <td>-2.224575</td>\n",
       "      <td>-2.416185</td>\n",
       "      <td>-2.516938</td>\n",
       "      <td>-2.736221</td>\n",
       "      <td>-2.919902</td>\n",
       "      <td>-3.006381</td>\n",
       "    </tr>\n",
       "    <tr>\n",
       "      <th>63</th>\n",
       "      <td>Cp</td>\n",
       "      <td>200000</td>\n",
       "      <td>0.08</td>\n",
       "      <td>0.05</td>\n",
       "      <td>-1.055649</td>\n",
       "      <td>-0.983137</td>\n",
       "      <td>-0.902399</td>\n",
       "      <td>-0.815979</td>\n",
       "      <td>-0.725138</td>\n",
       "      <td>-0.630710</td>\n",
       "      <td>...</td>\n",
       "      <td>-1.430809</td>\n",
       "      <td>-1.682517</td>\n",
       "      <td>-1.972680</td>\n",
       "      <td>-2.085720</td>\n",
       "      <td>-2.229280</td>\n",
       "      <td>-2.431315</td>\n",
       "      <td>-2.609433</td>\n",
       "      <td>-2.728287</td>\n",
       "      <td>-2.925939</td>\n",
       "      <td>-3.001854</td>\n",
       "    </tr>\n",
       "  </tbody>\n",
       "</table>\n",
       "<p>64 rows × 36 columns</p>\n",
       "</div>"
      ],
      "text/plain": [
       "   Param      Re     S     d      -2.1     -1.78     -1.47     -1.15  \\\n",
       "0     Cy   40000  0.08  0.05 -0.175271 -0.149215 -0.122368 -0.096956   \n",
       "1     Cy   50666  0.08  0.05 -0.126504 -0.073382 -0.033211  0.008268   \n",
       "2     Cy   61333  0.08  0.05 -0.016765  0.034532  0.067431  0.107558   \n",
       "3     Cy   72000  0.08  0.05  0.111640  0.181871  0.244588  0.330845   \n",
       "4     Cy   82666  0.08  0.05  0.250990  0.317135  0.382396  0.463928   \n",
       "..   ...     ...   ...   ...       ...       ...       ...       ...   \n",
       "59    Cp  157333  0.08  0.05 -1.095203 -0.961417 -0.883718 -0.797703   \n",
       "60    Cp  168000  0.08  0.05 -1.049246 -0.969676 -0.889326 -0.803220   \n",
       "61    Cp  178666  0.08  0.05 -1.044247 -0.975340 -0.894305 -0.807379   \n",
       "62    Cp  189333  0.08  0.05 -1.051441 -0.979565 -0.898479 -0.811864   \n",
       "63    Cp  200000  0.08  0.05 -1.055649 -0.983137 -0.902399 -0.815979   \n",
       "\n",
       "       -0.84     -0.52  ...      4.84      5.16      5.48      5.79      6.11  \\\n",
       "0  -0.070861 -0.044806  ...  0.494016  0.522079  0.547024  0.570193  0.614365   \n",
       "1   0.055054  0.089171  ...  0.603522  0.630642  0.657340  0.687416  0.730997   \n",
       "2   0.152161  0.183288  ...  0.707919  0.755507  0.806188  0.844763  0.990552   \n",
       "3   0.381140  0.463936  ...  1.333391  1.389392  1.481975  1.603389  1.653134   \n",
       "4   0.520372  0.588009  ...  1.552398  1.627355  1.714465  1.765231  1.801868   \n",
       "..       ...       ...  ...       ...       ...       ...       ...       ...   \n",
       "59 -0.708582 -0.616246  ... -1.432442 -1.658471 -1.967260 -2.151952 -2.229256   \n",
       "60 -0.712517 -0.619784  ... -1.431457 -1.665568 -1.971450 -2.132275 -2.227237   \n",
       "61 -0.716861 -0.623241  ... -1.431969 -1.672259 -1.973815 -2.114706 -2.225747   \n",
       "62 -0.720704 -0.627215  ... -1.431100 -1.677790 -1.974426 -2.099223 -2.224575   \n",
       "63 -0.725138 -0.630710  ... -1.430809 -1.682517 -1.972680 -2.085720 -2.229280   \n",
       "\n",
       "        6.42      6.74      7.05      7.37      7.68  \n",
       "0   0.630143  0.666479  0.702953  0.737705  0.749133  \n",
       "1   0.755593  0.782671  0.837690  0.974164  0.962597  \n",
       "2   1.012872  1.004646  0.981187  0.976996  0.972574  \n",
       "3   1.667295  1.611005  1.623479  1.635125  1.637587  \n",
       "4   1.797575  1.770482  1.789920  1.801065  1.801897  \n",
       "..       ...       ...       ...       ...       ...  \n",
       "59 -2.400024 -2.578504 -2.752281 -2.895835 -2.987009  \n",
       "60 -2.398644 -2.576588 -2.749870 -2.906410 -2.998260  \n",
       "61 -2.402810 -2.576052 -2.743838 -2.913803 -3.004927  \n",
       "62 -2.416185 -2.516938 -2.736221 -2.919902 -3.006381  \n",
       "63 -2.431315 -2.609433 -2.728287 -2.925939 -3.001854  \n",
       "\n",
       "[64 rows x 36 columns]"
      ]
     },
     "execution_count": 4,
     "metadata": {},
     "output_type": "execute_result"
    }
   ],
   "source": [
    "df = pd.read_excel(Path(os.getcwd(),fname))\n",
    "df"
   ]
  },
  {
   "cell_type": "code",
   "execution_count": 5,
   "metadata": {},
   "outputs": [
    {
     "name": "stdout",
     "output_type": "stream",
     "text": [
      "What in \"e387 desired.xls\"?\n",
      "\n",
      "Available Re's: [40000, 50666, 61333, 72000, 82666, 93333, 104000, 114666, 125333, 136000, 146666, 157333, 168000, 178666, 189333, 200000]\n",
      "Available alfas: [-2.1, -1.78, -1.47, -1.15, -0.84, -0.52, -0.21, 0.11, 0.43, 0.74, 1.06, 1.37, 1.69, 2, 2.32, 2.63, 2.95, 3.27, 3.58, 3.9, 4.21, 4.53, 4.84, 5.16, 5.48, 5.79, 6.11, 6.42, 6.74, 7.05, 7.37, 7.68]\n",
      "Required S: 0.08\n",
      "Required d: 0.05\n"
     ]
    }
   ],
   "source": [
    "Re = df.Re.unique().tolist()\n",
    "alfas = df.columns[4:].tolist()\n",
    "S = df.iloc[0,2]\n",
    "d = df.iloc[0,3]\n",
    "print('What in \"%s\"?\\n' % fname)\n",
    "print(\"Available Re's:\", Re)\n",
    "print(\"Available alfas:\", alfas)\n",
    "print(\"Required S:\", S)\n",
    "print(\"Required d:\", d)"
   ]
  },
  {
   "cell_type": "code",
   "execution_count": 6,
   "metadata": {},
   "outputs": [],
   "source": [
    "foil_array = np.zeros((n_foil_params, n_points_Re, n_points_alfa), dtype='float64')\n",
    "foil_array[0,:,:] = df.iloc[0:16,4:]\n",
    "foil_array[1,:,:] = df.iloc[16:32,4:]\n",
    "foil_array[2,:,:] = df.iloc[32:48,4:]\n",
    "foil_array[3,:,:] = df.iloc[48:64,4:]\n",
    "foil_array[4,:,:] = d\n",
    "foil_array[5,:,:] = S\n",
    "foil_array[6,:,:] = (np.array((Re))*np.ones((32,16))).T\n",
    "foil_array[7,:,:] = (np.array((alfas))*np.ones((16,32)))"
   ]
  },
  {
   "cell_type": "code",
   "execution_count": 7,
   "metadata": {},
   "outputs": [
    {
     "data": {
      "text/plain": [
       "(6, 16, 32)"
      ]
     },
     "execution_count": 7,
     "metadata": {},
     "output_type": "execute_result"
    }
   ],
   "source": [
    "foil_array = foil_array[:6,...]\n",
    "foil_array.shape"
   ]
  },
  {
   "cell_type": "code",
   "execution_count": 8,
   "metadata": {},
   "outputs": [],
   "source": [
    "X = foil_array.reshape(foil_array.shape[0]*foil_array.shape[1]*foil_array.shape[2])\n",
    "re_dict = dict(zip(Re, range(len(Re))))"
   ]
  },
  {
   "cell_type": "code",
   "execution_count": 9,
   "metadata": {},
   "outputs": [
    {
     "data": {
      "text/plain": [
       "(3072,)"
      ]
     },
     "execution_count": 9,
     "metadata": {},
     "output_type": "execute_result"
    }
   ],
   "source": [
    "X.shape"
   ]
  },
  {
   "cell_type": "code",
   "execution_count": 10,
   "metadata": {},
   "outputs": [
    {
     "data": {
      "text/plain": [
       "(512, 512)"
      ]
     },
     "execution_count": 10,
     "metadata": {},
     "output_type": "execute_result"
    }
   ],
   "source": [
    "y = np.round(model.predict(X[None,:]))[0, :, :, 0]\n",
    "y.shape"
   ]
  },
  {
   "cell_type": "code",
   "execution_count": 12,
   "metadata": {},
   "outputs": [
    {
     "data": {
      "text/plain": [
       "'e387 desired.xls'"
      ]
     },
     "execution_count": 12,
     "metadata": {},
     "output_type": "execute_result"
    }
   ],
   "source": [
    "fname"
   ]
  },
  {
   "cell_type": "code",
   "execution_count": 14,
   "metadata": {},
   "outputs": [
    {
     "data": {
      "image/png": "[encoded data removed]",
      "text/plain": [
       "<Figure size 1152x1152 with 1 Axes>"
      ]
     },
     "metadata": {
      "needs_background": "light"
     },
     "output_type": "display_data"
    }
   ],
   "source": [
    "plt.figure(figsize=(16,16))\n",
    "plt.matshow(y,0)\n",
    "plt.savefig(Path(os.getcwd(),fname.replace(' desired.xls', '.png')))"
   ]
  },
  {
   "cell_type": "code",
   "execution_count": 12,
   "metadata": {},
   "outputs": [
    {
     "data": {
      "text/plain": [
       "((921,), (921,))"
      ]
     },
     "execution_count": 12,
     "metadata": {},
     "output_type": "execute_result"
    }
   ],
   "source": [
    "# ищем координаты\n",
    "\n",
    "# сначала определим координаты начала и конца оси профиля\n",
    "\n",
    "for x_nose in range(y.shape[1]):\n",
    "    res = find_first_and_last_1_position(y[:, x_nose])\n",
    "    if res!=-1:\n",
    "        y_nose_top, y_nose_bot = res\n",
    "        break\n",
    "        \n",
    "for x_tail in range(y.shape[1]-1,0,-1):\n",
    "    res = find_first_and_last_1_position(y[:, x_tail])\n",
    "    if res!=-1:\n",
    "        y_tail_top, y_tail_bot = res\n",
    "        break\n",
    "\n",
    "if y_nose_top!=y_nose_bot: # ставим точку в середине носика, пригодится для красивой аппроксимации\n",
    "    y_nose = int(np.average((y_nose_top, y_nose_bot)))\n",
    "    y[y_nose,x_nose-1]=1\n",
    "    x_nose-=1\n",
    "\n",
    "if y_tail_top!=y_tail_bot: # а на хвостике не ставим \n",
    "    pass\n",
    "\n",
    "y=y[:, x_nose:x_tail+1]\n",
    "\n",
    "foil_x_top = (np.arange(y.shape[1])).tolist(); foil_x_top.reverse()\n",
    "foil_x_bot = foil_x_top.copy() \n",
    "foil_y_top=[]\n",
    "foil_y_bot=[]\n",
    "\n",
    "# ищем верхнюю и нижнюю границы профиля\n",
    "for x in foil_x_top:\n",
    "    if find_first_and_last_1_position(y[:, x])!=-1:\n",
    "        y_t, y_b = find_first_and_last_1_position(y[:, x])\n",
    "        foil_y_top.append(y_nose - y_t)\n",
    "        foil_y_bot.append(y_nose - y_b)\n",
    "    else:\n",
    "        foil_y_top.append(None)\n",
    "        foil_y_bot.append(None)\n",
    "\n",
    "# склеиваем верх и низ\n",
    "foil_x_bot = foil_x_bot[:-1]\n",
    "foil_x_bot.reverse()\n",
    "foil_y_bot = foil_y_bot[:-1]\n",
    "foil_y_bot.reverse()\n",
    "foil_x_top.extend(foil_x_bot)\n",
    "foil_y_top.extend(foil_y_bot)\n",
    "\n",
    "foil_x_top = np.array(foil_x_top)\n",
    "foil_y_top = np.array(foil_y_top)\n",
    "        \n",
    "foil_x = []\n",
    "foil_y = []\n",
    "\n",
    "# удаляем точки, где дыры в У\n",
    "for i in range(foil_x_top.shape[0]):\n",
    "    if foil_y_top[i]!=None:\n",
    "        foil_x.append(foil_x_top[i])\n",
    "        foil_y.append(foil_y_top[i])\n",
    "\n",
    "# нормируем к 1\n",
    "foil_x = np.array(foil_x)/(y.shape[1]-1)\n",
    "foil_y = np.array(foil_y)/(y.shape[1]-1)\n",
    "foil_x.shape, foil_y.shape"
   ]
  },
  {
   "cell_type": "code",
   "execution_count": 13,
   "metadata": {},
   "outputs": [],
   "source": [
    "src_x, src_y = read_airfoil_dat_file(Path(foils_dat_path, 'e387.dat'))"
   ]
  },
  {
   "cell_type": "code",
   "execution_count": 16,
   "metadata": {},
   "outputs": [
    {
     "data": {
      "image/png": "[encoded data removed]",
      "text/plain": [
       "<Figure size 1152x1152 with 1 Axes>"
      ]
     },
     "metadata": {
      "needs_background": "light"
     },
     "output_type": "display_data"
    }
   ],
   "source": [
    "f_x, f_y = interpolate_airfoil(foil_x, foil_y, n_points_in_predicted_dat)\n",
    "plt.figure(figsize=(16,16))\n",
    "plt.plot(f_x, f_y, 'green'), plt.plot(src_x, src_y), plt.plot([0,0],[-0.5,0.5],'white');"
   ]
  },
  {
   "cell_type": "code",
   "execution_count": 30,
   "metadata": {},
   "outputs": [],
   "source": [
    "df = pd.DataFrame(np.array((f_x, f_y)).T, columns=[fname.replace('desired.xls', 'predicted at'), str(datetime.now())[:19]],dtype='float32')\n",
    "savename = fname.replace('desired.xls', 'predicted.dat')\n",
    "df.to_csv(Path(os.getcwd(),savename), index=None, sep=' ')"
   ]
  },
  {
   "cell_type": "code",
   "execution_count": 31,
   "metadata": {},
   "outputs": [
    {
     "name": "stdout",
     "output_type": "stream",
     "text": [
      "Alfas: [-2.1, -1.78, -1.47, -1.15, -0.84, -0.52, -0.21, 0.11, 0.43, 0.74, 1.06, 1.37, 1.69, 2, 2.32, 2.63, 2.95, 3.27, 3.58, 3.9, 4.21, 4.53, 4.84, 5.16, 5.48, 5.79, 6.11, 6.42, 6.74, 7.05, 7.37, 7.68]\n",
      "Re's: [40000, 50666, 61333, 72000, 82666, 93333, 104000, 114666, 125333, 136000, 146666, 157333, 168000, 178666, 189333, 200000]\n",
      "Generate new foil data array...\n",
      "     --> 256 NaNs corrected.\n",
      "Foil data array saved as Foils DB\\pkl\\e387 predicted.pkl \n",
      "Saving as e387 predicted.xlsx\n",
      "\n",
      "\n",
      "Ready, file saved as: e387 predicted.xlsx\n"
     ]
    },
    {
     "ename": "NameError",
     "evalue": "name 'time' is not defined",
     "output_type": "error",
     "traceback": [
      "\u001b[1;31m---------------------------------------------------------------------------\u001b[0m",
      "\u001b[1;31mNameError\u001b[0m                                 Traceback (most recent call last)",
      "\u001b[1;32m<ipython-input-31-fc844e704ea4>\u001b[0m in \u001b[0;36m<module>\u001b[1;34m()\u001b[0m\n\u001b[0;32m     43\u001b[0m \u001b[0mprint\u001b[0m\u001b[1;33m(\u001b[0m\u001b[1;34m'\\n\\nReady, file saved as:'\u001b[0m\u001b[1;33m,\u001b[0m \u001b[0msavename\u001b[0m\u001b[1;33m.\u001b[0m\u001b[0mreplace\u001b[0m\u001b[1;33m(\u001b[0m\u001b[1;34m'.dat'\u001b[0m\u001b[1;33m,\u001b[0m \u001b[1;34m'.xlsx'\u001b[0m\u001b[1;33m)\u001b[0m\u001b[1;33m)\u001b[0m\u001b[1;33m\u001b[0m\u001b[1;33m\u001b[0m\u001b[0m\n\u001b[0;32m     44\u001b[0m \u001b[1;33m\u001b[0m\u001b[0m\n\u001b[1;32m---> 45\u001b[1;33m \u001b[0mtime\u001b[0m\u001b[1;33m.\u001b[0m\u001b[0msleep\u001b[0m\u001b[1;33m(\u001b[0m\u001b[1;36m2\u001b[0m\u001b[1;33m)\u001b[0m\u001b[1;33m\u001b[0m\u001b[1;33m\u001b[0m\u001b[0m\n\u001b[0m",
      "\u001b[1;31mNameError\u001b[0m: name 'time' is not defined"
     ]
    }
   ],
   "source": [
    "# get alfa step\n",
    "alfa_step, _ = get_alfa_step(alfa_min, alfa_max, n_points_alfa)\n",
    "\n",
    "print(\"Alfas:\", alfas)\n",
    "print(\"Re's:\", Re)\n",
    "                   \n",
    "print('Generate new foil data array...')        \n",
    "foil_array = create_foil_array_from_dat_file(Path(os.getcwd(), savename), Re, alfas, alfa_min, alfa_max, alfa_step)        \n",
    "\n",
    "save_pkl(foil_array, Path(foils_pkl_path, savename.replace('.dat', '.pkl')))\n",
    "print('Foil data array saved as %s ' % Path(foils_pkl_path, savename.replace('.dat', '.pkl')))              \n",
    "\n",
    "assert isinstance(foil_array, dict), 'Foil array is not a dict.'\n",
    "\n",
    "foil_array = foil_array['X']\n",
    "S = foil_array[5,0,0]\n",
    "d = foil_array[4,0,0]\n",
    "\n",
    "db = np.zeros((4*len(Re), 4+len(alfas)))\n",
    "idx=['Param', 'Re', 'S', 'd']\n",
    "for i in range(len(alfas)): idx.append(str(round(alfas[i],2)))\n",
    "db = pd.DataFrame(db, columns=idx)\n",
    "\n",
    "abs_idx=0\n",
    "\n",
    "params = dict(zip(range(4),['Cy', 'Cx', 'Cm', 'Cp']))\n",
    "\n",
    "for param in params.keys():\n",
    "    layer = param\n",
    "    for re_num, re in enumerate(Re):\n",
    "        db.iloc[abs_idx, 0]=params[param]\n",
    "        db.iloc[abs_idx, 1]=re\n",
    "        db.iloc[abs_idx, 2]=S\n",
    "        db.iloc[abs_idx, 3]=d\n",
    "        db.iloc[abs_idx, 4:]=foil_array[layer, re_num, :]            \n",
    "        abs_idx+=1\n",
    "try:\n",
    "    print('Saving as', savename.replace('.dat', '.xlsx'))\n",
    "    db.to_excel(savename.replace('.dat', '.xlsx'), sheet_name='predicted', index=False)\n",
    "except:\n",
    "    print('\\n\\nFile',savename.replace('.dat', '.xlsx'),'was not saved, because it opened by user.')\n",
    "\n",
    "print('\\n\\nReady, file saved as:', savename.replace('.dat', '.xlsx'))\n",
    "\n",
    "time.sleep(2)"
   ]
  },
  {
   "cell_type": "code",
   "execution_count": null,
   "metadata": {},
   "outputs": [],
   "source": []
  }
 ],
 "metadata": {
  "kernelspec": {
   "display_name": "Python 3",
   "language": "python",
   "name": "python3"
  },
  "language_info": {
   "codemirror_mode": {
    "name": "ipython",
    "version": 3
   },
   "file_extension": ".py",
   "mimetype": "text/x-python",
   "name": "python",
   "nbconvert_exporter": "python",
   "pygments_lexer": "ipython3",
   "version": "3.7.4"
  }
 },
 "nbformat": 4,
 "nbformat_minor": 4
}
