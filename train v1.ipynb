{
 "cells": [
  {
   "cell_type": "markdown",
   "metadata": {},
   "source": [
    "#### Summary\n",
    "\n",
    "- Более-менее приемлемый результат с Unet-5 и исходными данными в форме 64х64х1.\n",
    "\n",
    "- Результат в initial_weights_600foils_04122020.h5, val_loss = 4.179015103318306e-05\n",
    "\n",
    "- Внизу есть подробный текст с описанием того, как что делалось."
   ]
  },
  {
   "cell_type": "code",
   "execution_count": 2,
   "metadata": {},
   "outputs": [],
   "source": [
    "import tensorflow.keras.backend as K\n",
    "from tensorflow.keras import Model\n",
    "from tensorflow.keras.applications import resnet50\n",
    "from tensorflow.keras.losses import MeanSquaredError\n",
    "from tensorflow.keras.layers import Input, Dense, Concatenate, Convolution2D, MaxPooling2D, UpSampling2D, BatchNormalization\n",
    "from tensorflow.keras import Model\n",
    "from tensorflow.keras.layers import Input, Concatenate, Convolution2D, MaxPooling2D, UpSampling2D, Dense, Flatten\n",
    "from tensorflow.keras.optimizers import SGD, RMSprop, Adam\n",
    "from tensorflow.keras.callbacks import EarlyStopping, ReduceLROnPlateau, Callback, ModelCheckpoint\n",
    "from tensorflow.keras.utils import Sequence\n",
    "from tensorflow.keras.regularizers import l2, l1\n",
    "from lib.preprocess_modules import load_pkl, save_pkl\n",
    "from lib.dl_modules import *\n",
    "from config import *\n",
    "from pathlib import Path\n",
    "from numpy.random import shuffle, seed\n",
    "import gc\n",
    "import matplotlib.pyplot as plt\n",
    "import os"
   ]
  },
  {
   "cell_type": "code",
   "execution_count": 18,
   "metadata": {},
   "outputs": [
    {
     "name": "stdout",
     "output_type": "stream",
     "text": [
      "Totally foils in arrays: 138\n"
     ]
    }
   ],
   "source": [
    "'''\n",
    "Generate final dataset from separate files.\n",
    "X: array of n_files*\n",
    "y: array of n_files*\n",
    "Save to pkl files.\n",
    "'''\n",
    "\n",
    "n_files=138\n",
    "X = np.zeros((n_files, 64, 64, 1))\n",
    "y = np.zeros((n_files, 128))\n",
    "\n",
    "sample=0\n",
    "for fname in os.listdir(foils_pkl_path): # сперва нужные профили\n",
    "    if sample>n_files-1:break\n",
    "    if fname[:2].lower() in ['ag', 'cl', 'mh', 'hq', 'hd', 'hn', 'ht' ]:\n",
    "        foil = load_pkl(Path(foils_pkl_path, fname))\n",
    "        X[sample, :, :, :] = foil['X'].reshape(64, 64, 1)\n",
    "        y[sample, :] = foil['y'].y.reshape(128)\n",
    "        sample+=1\n",
    "\n",
    "for fname in os.listdir(foils_pkl_path): # потом все оставшиеся\n",
    "    if sample>n_files-1:break\n",
    "    if fname[:2].lower() not in ['ag', 'cl', 'mh', 'hq', 'hd', 'hn', 'ht', 'X.', 'y.']:\n",
    "        foil = load_pkl(Path(foils_pkl_path, fname))\n",
    "        X[sample, :, :, :] = foil['X'].reshape(64, 64, 1)\n",
    "        y[sample, :] = foil['y'].y.reshape(128)\n",
    "        sample+=1\n",
    "    \n",
    "assert np.sum(np.isnan(X))==0, \"NaNs in X\"\n",
    "assert np.sum(np.isnan(y))==0, \"NaNs in y\"\n",
    "\n",
    "save_pkl(X, Path(foils_pkl_path, \"X.pkl\"))\n",
    "save_pkl(y, Path(foils_pkl_path, \"y.pkl\"))\n",
    "\n",
    "print(\"Totally foils in arrays: %i\" % (sample))"
   ]
  },
  {
   "cell_type": "code",
   "execution_count": 19,
   "metadata": {},
   "outputs": [
    {
     "data": {
      "text/plain": [
       "((138, 64, 64, 1), (138, 128))"
      ]
     },
     "execution_count": 19,
     "metadata": {},
     "output_type": "execute_result"
    }
   ],
   "source": [
    "X = load_pkl(Path(foils_pkl_path, 'X.pkl'))\n",
    "y = load_pkl(Path(foils_pkl_path, 'y.pkl'))\n",
    "X.shape, y.shape"
   ]
  },
  {
   "cell_type": "code",
   "execution_count": 20,
   "metadata": {},
   "outputs": [],
   "source": [
    "all_indices = np.arange(len(X))\n",
    "seed(42)\n",
    "shuffle(all_indices)\n",
    "\n",
    "n_indices = len(X)\n",
    "train_part = int(n_indices*train_percentage)\n",
    "val_part = int(n_indices*val_percentage)\n",
    "train_part, val_part\n",
    "train_indices = all_indices[:train_part]\n",
    "val_indices = all_indices[train_part:val_part]\n",
    "test_indices = all_indices[val_part:]"
   ]
  },
  {
   "cell_type": "code",
   "execution_count": 22,
   "metadata": {},
   "outputs": [
    {
     "name": "stdout",
     "output_type": "stream",
     "text": [
      "U-Net compiled\n",
      "Input shape: (None, 64, 64, 1)\n",
      "Output shape: (None, 128)\n"
     ]
    }
   ],
   "source": [
    "def define_unet_5(input_shape=(64, 64, 1), optimizer=Adam(1e-5), lr=1e-5, reg=0):\n",
    "   # contracting path only\n",
    "    inputs = Input(shape=input_shape)\n",
    "       \n",
    "    conv1 = Convolution2D(16, (3,3), activation='tanh', padding='same')(inputs)\n",
    "    conv1 = Convolution2D(16, (3,3), activation='tanh', padding='same')(conv1)\n",
    "    pool1 = MaxPooling2D(pool_size=(2, 2))(conv1)\n",
    "    \n",
    "    conv2 = Convolution2D(256, (3,3), activation='tanh', padding='same')(pool1)\n",
    "    conv2 = Convolution2D(256, (3,3), activation='tanh', padding='same')(conv2)\n",
    "    pool2 = MaxPooling2D(pool_size=(2, 2))(conv2)\n",
    "    \n",
    "    conv3 = Convolution2D(512, (3,3), activation='tanh', padding='same')(pool2)\n",
    "    conv3 = Convolution2D(512, (3,3), activation='tanh', padding='same')(conv3)\n",
    "    pool3 = MaxPooling2D(pool_size=(2, 2))(conv3)\n",
    "    \n",
    "    conv4 = Convolution2D(1024, (3,3), activation='tanh', padding='same')(pool3)\n",
    "    conv4 = Convolution2D(1024, (3,3), activation='tanh', padding='same')(conv4)\n",
    "    pool4 = MaxPooling2D(pool_size=(2, 2))(conv4)\n",
    "    \n",
    "    conv5 = Convolution2D(2048, (3,3), activation='tanh', padding='same')(pool4)\n",
    "    conv5 = Convolution2D(2048, (1,1), activation='tanh', padding='same')(conv5)\n",
    "\n",
    "    flat = Flatten()(conv5)\n",
    "    \n",
    "    dense = Dense(128, activation='tanh')(flat)\n",
    "    \n",
    "    model = Model(inputs=inputs, outputs=dense)\n",
    "\n",
    "    for layer in range(len(model.layers)):\n",
    "        model.layers[layer].kernel_regularizer=l2(reg)\n",
    "        model.layers[layer].bias_regularizer=l2(reg)\n",
    "        model.layers[layer].kernel_initializer=1e-12\n",
    "        model.layers[layer].bias_initializer=1e-12\n",
    "\n",
    "    model.compile(optimizer=optimizer, loss=MeanSquaredError(), metrics=['mse'])\n",
    "\n",
    "    print('U-Net compiled')\n",
    "    print('Input shape:', model.input_shape)\n",
    "    print('Output shape:', model.output_shape)\n",
    "\n",
    "    return model\n",
    "\n",
    "\n",
    "\n",
    "model = define_unet_5(input_shape=(64,64,1), optimizer=Adam(1), lr=1e-4, reg=1e-2)"
   ]
  },
  {
   "cell_type": "code",
   "execution_count": 30,
   "metadata": {
    "scrolled": true
   },
   "outputs": [
    {
     "name": "stdout",
     "output_type": "stream",
     "text": [
      "U-Net compiled\n",
      "Input shape: (None, 64, 64, 1)\n",
      "Output shape: (None, 128)\n",
      "103/103 [==============================] - 10s 96ms/step - loss: 1.0637e-05 - mse: 1.0637e-05 - val_loss: 9.5429e-06 - val_mse: 9.5429e-06\n",
      "Done.\n"
     ]
    }
   ],
   "source": [
    "# training\n",
    "gc.collect()\n",
    "\n",
    "n_epochs=1\n",
    "batch_size=1\n",
    "lr=1e-5\n",
    "reg=0.001\n",
    "optimizer=Adam(learning_rate=lr)\n",
    "\n",
    "# data generators\n",
    "train_generator = BatchGenerator(X, y, train_indices, batch_size=batch_size, Xdim=X[0].shape)\n",
    "val_generator   = BatchGenerator(X, y, val_indices, batch_size=batch_size, Xdim=X[0].shape)\n",
    "test_generator  = BatchGenerator(X, y, test_indices, batch_size=batch_size, Xdim=X[0].shape, shuffle=False)\n",
    "\n",
    "model = define_unet_5(input_shape=X[0].shape, optimizer=optimizer, lr=lr, reg=reg)\n",
    "\n",
    "model.load_weights(str(Path(\"./weights\", 'initial_weights_600foils_04122020.h5')))\n",
    "\n",
    "# callbacks\n",
    "early_stop = EarlyStopping(monitor='loss', patience=30, restore_best_weights=True, verbose=1)\n",
    "lr_reduce  = ReduceLROnPlateau(monitor='loss', min_lr=0, cooldown=10, factor=0.2, patience=10, verbose=1, mode='min')\n",
    "# lr_reduce = CosineLR(min_lr=1e-12, max_lr=lr, steps_per_epoch=np.ceil(len(train_indices)/batch_size), lr_decay=0.9)\n",
    "# m_save = ModelCheckpoint(str(Path(results_path, 'weights', 'temp_weights.h5')), monitor='val_mse', \n",
    "#                          verbose=0, save_best_only=True, save_weights_only=True, mode='min', period=1)\n",
    "\n",
    "# train model\n",
    "history = model.fit_generator(generator=train_generator, validation_data=val_generator, \n",
    "                             epochs=n_epochs, callbacks=[early_stop, lr_reduce],#, m_save],                              \n",
    "                             verbose=1, workers=1, use_multiprocessing=False)\n",
    "\n",
    "# save history and weights\n",
    "# r_name = (str(datetime.now())[:16]).replace(':','-')\n",
    "# unet.save_weights(str(Path(results_path,'weights', r_name+'.h5')))\n",
    "# save_pkl(history.history, Path(results_path,'weights', r_name+'.pkl'))\n",
    "\n",
    "print('Done.')"
   ]
  },
  {
   "cell_type": "code",
   "execution_count": 46,
   "metadata": {},
   "outputs": [
    {
     "name": "stdout",
     "output_type": "stream",
     "text": [
      "0.060246386\n"
     ]
    },
    {
     "data": {
      "text/plain": [
       "[]"
      ]
     },
     "execution_count": 46,
     "metadata": {},
     "output_type": "execute_result"
    },
    {
     "data": {
      "image/png": "[encoded data removed]",
      "text/plain": [
       "<Figure size 864x432 with 1 Axes>"
      ]
     },
     "metadata": {
      "needs_background": "light"
     },
     "output_type": "display_data"
    }
   ],
   "source": [
    "X_pred, y_targ = test_generator[12]\n",
    "X_pred = X_pred[0]\n",
    "y_targ = y_targ[0]\n",
    "y_pred = model.predict(np.expand_dims(X_pred,axis=0))\n",
    "print(np.max(y_pred))\n",
    "plt.figure(figsize=(12,6))\n",
    "plt.plot(foil['y'].x, y_targ), plt.plot(foil['y'].x, y_pred[0,])#, plt.plot([0,0],[-0.3,0.3])\n",
    "plt.plot()"
   ]
  },
  {
   "cell_type": "markdown",
   "metadata": {},
   "source": [
    "#### Выстрелила model5 - только contracting path от Unet\n",
    "\n",
    "### Как получил начальные веса\n",
    "\n",
    "#### Шаг 1 - тренировка на 138 профилях группы ['ag', 'cl', 'mh', 'hq', 'hd', 'hn', 'ht' ]\n",
    "138 штук\n",
    "n_epochs=10000\n",
    "batch_size=1\n",
    "lr=1e-4\n",
    "reg=0.1\n",
    "optimizer=Adam(learning_rate=lr)\n",
    "model5\n",
    "\n",
    "Результат сохранен в 'initial_weights_138foils_04122020.h5'- для профилей группы ['ag', 'cl', 'mh', 'hq', 'hd', 'hn', 'ht' ], \n",
    "\n",
    "#### шаг 2 - 300 первых профилей по списку\n",
    "подгрузил веса с предыдущего шага\n",
    "n_epochs=1000\n",
    "batch_size=1\n",
    "lr=1e-5\n",
    "reg=0.1\n",
    "\n",
    "val_loss = 7.844471713522379e-05\n",
    "\n",
    "Результат в initial_weights_300foils_04122020.h5\n",
    "\n",
    "#### шаг 3 - 600 первых профилей по списку\n",
    "подгрузил веса с предыдущего шага\n",
    "n_epochs=1000\n",
    "batch_size=1\n",
    "lr=1e-5\n",
    "reg=0.1\n",
    "\n",
    "val_loss = 4.179015103318306e-05\n",
    "\n",
    "Результат в initial_weights_600foils_04122020.h5\n",
    "\n",
    "\n",
    "##### TODO\n",
    "- интересно, а с нуля сможет зохавать все профили или упадёт? падает\n",
    "- определить наилучший batch_size - 1\n",
    "- добавить фильтров 4х4\n",
    "- добавить еще пару сверточных - блоков получше\n",
    "- уменьшить число каналов - шляпа\n",
    "- попробовать другие активации - не выстрелило\n",
    "- другой лосс? - подумать\n",
    "- регуляризацию подобрать, вроде больше-лучше 0.1...0.001 самое то\n",
    "- SGD плохо"
   ]
  }
 ],
 "metadata": {
  "kernelspec": {
   "display_name": "Python 3",
   "language": "python",
   "name": "python3"
  },
  "language_info": {
   "codemirror_mode": {
    "name": "ipython",
    "version": 3
   },
   "file_extension": ".py",
   "mimetype": "text/x-python",
   "name": "python",
   "nbconvert_exporter": "python",
   "pygments_lexer": "ipython3",
   "version": "3.6.12"
  }
 },
 "nbformat": 4,
 "nbformat_minor": 2
}
