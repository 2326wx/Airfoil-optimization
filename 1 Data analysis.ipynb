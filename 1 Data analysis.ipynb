{
 "cells": [
  {
   "cell_type": "code",
   "execution_count": 13,
   "metadata": {},
   "outputs": [],
   "source": [
    "from xfoil import XFoil\n",
    "from xfoil.model import Airfoil\n",
    "from config import *\n",
    "from lib.utils import *\n",
    "from lib.preprocess_modules import *\n",
    "from pathlib import Path\n",
    "import os\n",
    "import numpy as np\n",
    "import matplotlib.pyplot as plt"
   ]
  },
  {
   "cell_type": "code",
   "execution_count": 24,
   "metadata": {},
   "outputs": [
    {
     "name": "stdout",
     "output_type": "stream",
     "text": [
      "goe187.dat 'charmap' codec can't decode byte 0x81 in position 12: character maps to <undefined>\n",
      "goe188.dat 'charmap' codec can't decode byte 0x81 in position 12: character maps to <undefined>\n",
      "goe235.dat 'charmap' codec can't decode byte 0x81 in position 12: character maps to <undefined>\n",
      "n642415.dat Foil_root_thickness is over 1!\n",
      "naca1.dat Foil_root_thickness is over 1!\n",
      "W: File 'Foils DB\\dat\\naca23015.dat': can't read and convert X=1.0000 and Y=......, this coordinate skipped.\n",
      "W: File 'Foils DB\\dat\\naca23015.dat': can't read and convert X=0.0000 and Y=......, this coordinate skipped.\n",
      "W: File 'Foils DB\\dat\\naca23018.dat': can't read and convert X=1.0000 and Y=......, this coordinate skipped.\n",
      "W: File 'Foils DB\\dat\\naca23018.dat': can't read and convert X=0.0000 and Y=......, this coordinate skipped.\n",
      "W: File 'Foils DB\\dat\\naca23021.dat': can't read and convert X=1.0000 and Y=......, this coordinate skipped.\n",
      "W: File 'Foils DB\\dat\\naca23021.dat': can't read and convert X=0.0000 and Y=......, this coordinate skipped.\n",
      "W: File 'Foils DB\\dat\\naca23024.dat': can't read and convert X=1.00000 and Y=......., this coordinate skipped.\n",
      "W: File 'Foils DB\\dat\\naca2412.dat': can't read and convert X=1.0000 and Y=......, this coordinate skipped.\n",
      "W: File 'Foils DB\\dat\\naca2412.dat': can't read and convert X=0.0000 and Y=......, this coordinate skipped.\n",
      "W: File 'Foils DB\\dat\\naca2415.dat': can't read and convert X=1.0000 and Y=......, this coordinate skipped.\n",
      "W: File 'Foils DB\\dat\\naca2415.dat': can't read and convert X=0.0000 and Y=......, this coordinate skipped.\n",
      "W: File 'Foils DB\\dat\\naca2418.dat': can't read and convert X=1.0000 and Y=......, this coordinate skipped.\n",
      "W: File 'Foils DB\\dat\\naca2418.dat': can't read and convert X=0.0000 and Y=......, this coordinate skipped.\n",
      "W: File 'Foils DB\\dat\\naca2421.dat': can't read and convert X=1.0000 and Y=......, this coordinate skipped.\n",
      "W: File 'Foils DB\\dat\\naca2421.dat': can't read and convert X=0.0000 and Y=......, this coordinate skipped.\n",
      "W: File 'Foils DB\\dat\\naca2424.dat': can't read and convert X=1.00000 and Y=......., this coordinate skipped.\n",
      "W: File 'Foils DB\\dat\\naca4412.dat': can't read and convert X=1.0000 and Y=......, this coordinate skipped.\n",
      "W: File 'Foils DB\\dat\\naca4418.dat': can't read and convert X=1.0000 and Y=......, this coordinate skipped.\n",
      "W: File 'Foils DB\\dat\\naca4418.dat': can't read and convert X=0.0000 and Y=......, this coordinate skipped.\n",
      "W: File 'Foils DB\\dat\\naca4421.dat': can't read and convert X=1.0000 and Y=......, this coordinate skipped.\n",
      "W: File 'Foils DB\\dat\\naca4421.dat': can't read and convert X=0.0000 and Y=......, this coordinate skipped.\n",
      "W: File 'Foils DB\\dat\\naca4424.dat': can't read and convert X=1.00000 and Y=......., this coordinate skipped.\n"
     ]
    }
   ],
   "source": [
    "s = []\n",
    "for fname in os.listdir(foils_dat_path):\n",
    "    try:\n",
    "        x, y = read_airfoil_dat_file(Path(foils_dat_path, fname))\n",
    "        current_foil = Airfoil(x,y)\n",
    "        S = round(get_foil_root_thickness(current_foil)*100,0)\n",
    "        if S<25: s.append(S)        \n",
    "    except Exception as ex:\n",
    "        print (fname, str(ex))\n",
    "s = np.array(s)\n",
    "x_s, y_s = np.unique(s, return_counts=True)"
   ]
  },
  {
   "cell_type": "code",
   "execution_count": 29,
   "metadata": {},
   "outputs": [
    {
     "data": {
      "image/png": "[encoded data removed]",
      "text/plain": [
       "<Figure size 864x432 with 1 Axes>"
      ]
     },
     "metadata": {
      "needs_background": "light"
     },
     "output_type": "display_data"
    }
   ],
   "source": [
    "plt.figure(figsize=(12,6))\n",
    "plt.plot(x_s, y_s);\n",
    "plt.axes()"
   ]
  },
  {
   "cell_type": "code",
   "execution_count": 44,
   "metadata": {},
   "outputs": [
    {
     "name": "stdout",
     "output_type": "stream",
     "text": [
      "Всего профилей в диапазоне толщин от 3 до 10 процентов: 629 штук.\n",
      "Всего профилей в диапазоне толщин от 3 до 11 процентов: 721 штук.\n",
      "Всего профилей в диапазоне толщин от 3 до 12 процентов: 895 штук.\n",
      "Всего профилей в диапазоне толщин от 3 до 13 процентов: 1008 штук.\n",
      "Всего профилей в диапазоне толщин от 3 до 14 процентов: 1113 штук.\n",
      "Всего профилей в диапазоне толщин от 3 до 15 процентов: 1231 штук.\n",
      "Всего профилей в диапазоне толщин от 3 до 16 процентов: 1314 штук.\n",
      "Всего профилей в диапазоне толщин от 3 до 17 процентов: 1373 штук.\n",
      "Всего профилей в диапазоне толщин от 4 до 10 процентов: 625 штук.\n",
      "Всего профилей в диапазоне толщин от 4 до 11 процентов: 717 штук.\n",
      "Всего профилей в диапазоне толщин от 4 до 12 процентов: 891 штук.\n",
      "Всего профилей в диапазоне толщин от 4 до 13 процентов: 1004 штук.\n",
      "Всего профилей в диапазоне толщин от 4 до 14 процентов: 1109 штук.\n",
      "Всего профилей в диапазоне толщин от 4 до 15 процентов: 1227 штук.\n",
      "Всего профилей в диапазоне толщин от 4 до 16 процентов: 1310 штук.\n",
      "Всего профилей в диапазоне толщин от 4 до 17 процентов: 1369 штук.\n",
      "Всего профилей в диапазоне толщин от 5 до 10 процентов: 620 штук.\n",
      "Всего профилей в диапазоне толщин от 5 до 11 процентов: 712 штук.\n",
      "Всего профилей в диапазоне толщин от 5 до 12 процентов: 886 штук.\n",
      "Всего профилей в диапазоне толщин от 5 до 13 процентов: 999 штук.\n",
      "Всего профилей в диапазоне толщин от 5 до 14 процентов: 1104 штук.\n",
      "Всего профилей в диапазоне толщин от 5 до 15 процентов: 1222 штук.\n",
      "Всего профилей в диапазоне толщин от 5 до 16 процентов: 1305 штук.\n",
      "Всего профилей в диапазоне толщин от 5 до 17 процентов: 1364 штук.\n",
      "Всего профилей в диапазоне толщин от 6 до 10 процентов: 597 штук.\n",
      "Всего профилей в диапазоне толщин от 6 до 11 процентов: 689 штук.\n",
      "Всего профилей в диапазоне толщин от 6 до 12 процентов: 863 штук.\n",
      "Всего профилей в диапазоне толщин от 6 до 13 процентов: 976 штук.\n",
      "Всего профилей в диапазоне толщин от 6 до 14 процентов: 1081 штук.\n",
      "Всего профилей в диапазоне толщин от 6 до 15 процентов: 1199 штук.\n",
      "Всего профилей в диапазоне толщин от 6 до 16 процентов: 1282 штук.\n",
      "Всего профилей в диапазоне толщин от 6 до 17 процентов: 1341 штук.\n"
     ]
    }
   ],
   "source": [
    "for smin in range(3, 7):\n",
    "    for smax in range(10,18):\n",
    "        print(\"Всего профилей в диапазоне толщин от %i до %i процентов: %s штук.\" % (smin, smax, s[((s>=smin) & (s<=smax))].shape[0]))"
   ]
  },
  {
   "cell_type": "code",
   "execution_count": 55,
   "metadata": {},
   "outputs": [],
   "source": [
    "# Димыч выбрал диапазон от 4 до 10\n",
    "smin = 4\n",
    "smax = 10"
   ]
  },
  {
   "cell_type": "code",
   "execution_count": 56,
   "metadata": {},
   "outputs": [
    {
     "name": "stdout",
     "output_type": "stream",
     "text": [
      "goe187.dat 'charmap' codec can't decode byte 0x81 in position 12: character maps to <undefined>\n",
      "goe188.dat 'charmap' codec can't decode byte 0x81 in position 12: character maps to <undefined>\n",
      "goe235.dat 'charmap' codec can't decode byte 0x81 in position 12: character maps to <undefined>\n",
      "n642415.dat Foil_root_thickness is over 1!\n",
      "naca1.dat Foil_root_thickness is over 1!\n",
      "W: File 'Foils DB\\dat\\naca23015.dat': can't read and convert X=1.0000 and Y=......, this coordinate skipped.\n",
      "W: File 'Foils DB\\dat\\naca23015.dat': can't read and convert X=0.0000 and Y=......, this coordinate skipped.\n",
      "W: File 'Foils DB\\dat\\naca23018.dat': can't read and convert X=1.0000 and Y=......, this coordinate skipped.\n",
      "W: File 'Foils DB\\dat\\naca23018.dat': can't read and convert X=0.0000 and Y=......, this coordinate skipped.\n",
      "W: File 'Foils DB\\dat\\naca23021.dat': can't read and convert X=1.0000 and Y=......, this coordinate skipped.\n",
      "W: File 'Foils DB\\dat\\naca23021.dat': can't read and convert X=0.0000 and Y=......, this coordinate skipped.\n",
      "W: File 'Foils DB\\dat\\naca23024.dat': can't read and convert X=1.00000 and Y=......., this coordinate skipped.\n",
      "W: File 'Foils DB\\dat\\naca2412.dat': can't read and convert X=1.0000 and Y=......, this coordinate skipped.\n",
      "W: File 'Foils DB\\dat\\naca2412.dat': can't read and convert X=0.0000 and Y=......, this coordinate skipped.\n",
      "W: File 'Foils DB\\dat\\naca2415.dat': can't read and convert X=1.0000 and Y=......, this coordinate skipped.\n",
      "W: File 'Foils DB\\dat\\naca2415.dat': can't read and convert X=0.0000 and Y=......, this coordinate skipped.\n",
      "W: File 'Foils DB\\dat\\naca2418.dat': can't read and convert X=1.0000 and Y=......, this coordinate skipped.\n",
      "W: File 'Foils DB\\dat\\naca2418.dat': can't read and convert X=0.0000 and Y=......, this coordinate skipped.\n",
      "W: File 'Foils DB\\dat\\naca2421.dat': can't read and convert X=1.0000 and Y=......, this coordinate skipped.\n",
      "W: File 'Foils DB\\dat\\naca2421.dat': can't read and convert X=0.0000 and Y=......, this coordinate skipped.\n",
      "W: File 'Foils DB\\dat\\naca2424.dat': can't read and convert X=1.00000 and Y=......., this coordinate skipped.\n",
      "W: File 'Foils DB\\dat\\naca4412.dat': can't read and convert X=1.0000 and Y=......, this coordinate skipped.\n",
      "W: File 'Foils DB\\dat\\naca4418.dat': can't read and convert X=1.0000 and Y=......, this coordinate skipped.\n",
      "W: File 'Foils DB\\dat\\naca4418.dat': can't read and convert X=0.0000 and Y=......, this coordinate skipped.\n",
      "W: File 'Foils DB\\dat\\naca4421.dat': can't read and convert X=1.0000 and Y=......, this coordinate skipped.\n",
      "W: File 'Foils DB\\dat\\naca4421.dat': can't read and convert X=0.0000 and Y=......, this coordinate skipped.\n",
      "W: File 'Foils DB\\dat\\naca4424.dat': can't read and convert X=1.00000 and Y=......., this coordinate skipped.\n"
     ]
    }
   ],
   "source": [
    "used_foils = []\n",
    "for fname in os.listdir(foils_dat_path):\n",
    "    try:\n",
    "        x, y = read_airfoil_dat_file(Path(foils_dat_path, fname))\n",
    "        current_foil = Airfoil(x,y)\n",
    "        S = round(get_foil_root_thickness(current_foil)*100,0)\n",
    "        if S>=4 and S<=10: used_foils.append(fname)        \n",
    "    except Exception as ex:\n",
    "        print (fname, str(ex))"
   ]
  },
  {
   "cell_type": "code",
   "execution_count": 57,
   "metadata": {},
   "outputs": [
    {
     "data": {
      "text/plain": [
       "625"
      ]
     },
     "execution_count": 57,
     "metadata": {},
     "output_type": "execute_result"
    }
   ],
   "source": [
    "len(used_foils)"
   ]
  },
  {
   "cell_type": "code",
   "execution_count": 60,
   "metadata": {},
   "outputs": [
    {
     "data": {
      "text/plain": [
       "'Foils 4-10 thickness.pkl'"
      ]
     },
     "execution_count": 60,
     "metadata": {},
     "output_type": "execute_result"
    }
   ],
   "source": [
    "sname = 'Foils '+str(smin)+'-'+str(smax)+' thickness.pkl'\n",
    "save_pkl(used_foils, Path(foils_dat_path, sname))\n",
    "sname"
   ]
  }
 ],
 "metadata": {
  "kernelspec": {
   "display_name": "Python 3",
   "language": "python",
   "name": "python3"
  },
  "language_info": {
   "codemirror_mode": {
    "name": "ipython",
    "version": 3
   },
   "file_extension": ".py",
   "mimetype": "text/x-python",
   "name": "python",
   "nbconvert_exporter": "python",
   "pygments_lexer": "ipython3",
   "version": "3.7.4"
  }
 },
 "nbformat": 4,
 "nbformat_minor": 4
}
